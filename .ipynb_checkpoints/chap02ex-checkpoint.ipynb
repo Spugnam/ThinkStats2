{
 "cells": [
  {
   "cell_type": "markdown",
   "metadata": {},
   "source": [
    "# Examples and Exercises from Think Stats, 2nd Edition\n",
    "\n",
    "http://thinkstats2.com\n",
    "\n",
    "Copyright 2016 Allen B. Downey\n",
    "\n",
    "MIT License: https://opensource.org/licenses/MIT\n"
   ]
  },
  {
   "cell_type": "code",
   "execution_count": 2,
   "metadata": {
    "collapsed": false
   },
   "outputs": [
    {
     "name": "stdout",
     "output_type": "stream",
     "text": [
      "       caseid  pregordr  howpreg_n  howpreg_p  moscurrp  nowprgdk  pregend1  \\\n",
      "0           1         1        NaN        NaN       NaN       NaN       6.0   \n",
      "1           1         2        NaN        NaN       NaN       NaN       6.0   \n",
      "2           2         1        NaN        NaN       NaN       NaN       5.0   \n",
      "3           2         2        NaN        NaN       NaN       NaN       6.0   \n",
      "4           2         3        NaN        NaN       NaN       NaN       6.0   \n",
      "5           6         1        NaN        NaN       NaN       NaN       6.0   \n",
      "6           6         2        NaN        NaN       NaN       NaN       6.0   \n",
      "7           6         3        NaN        NaN       NaN       NaN       6.0   \n",
      "8           7         1        NaN        NaN       NaN       NaN       5.0   \n",
      "9           7         2        NaN        NaN       NaN       NaN       5.0   \n",
      "10         12         1        NaN        NaN       NaN       NaN       5.0   \n",
      "11         14         1        NaN        NaN       NaN       NaN       6.0   \n",
      "12         14         2        NaN        NaN       NaN       NaN       6.0   \n",
      "13         14         3        NaN        NaN       NaN       NaN       3.0   \n",
      "14         15         1        NaN        NaN       NaN       NaN       1.0   \n",
      "15         15         2        NaN        NaN       NaN       NaN       6.0   \n",
      "16         15         3        NaN        NaN       NaN       NaN       6.0   \n",
      "17         18         1        NaN        NaN       NaN       NaN       5.0   \n",
      "18         18         2        NaN        NaN       NaN       NaN       1.0   \n",
      "19         21         1        NaN        NaN       NaN       NaN       6.0   \n",
      "20         21         2        NaN        NaN       NaN       NaN       6.0   \n",
      "21         23         1        NaN        NaN       NaN       NaN       6.0   \n",
      "22         23         2        NaN        NaN       NaN       NaN       1.0   \n",
      "23         24         1        NaN        NaN       NaN       NaN       6.0   \n",
      "24         24         2        NaN        NaN       NaN       NaN       6.0   \n",
      "25         24         3        NaN        NaN       NaN       NaN       6.0   \n",
      "26         28         1        NaN        NaN       NaN       NaN       6.0   \n",
      "27         31         1        NaN        NaN       NaN       NaN       6.0   \n",
      "28         31         2        NaN        NaN       NaN       NaN       6.0   \n",
      "29         31         3        NaN        NaN       NaN       NaN       6.0   \n",
      "...       ...       ...        ...        ...       ...       ...       ...   \n",
      "13563   12547         2        NaN        NaN       NaN       NaN       6.0   \n",
      "13564   12547         3        NaN        NaN       NaN       NaN       6.0   \n",
      "13565   12550         1        NaN        NaN       NaN       NaN       6.0   \n",
      "13566   12551         1        NaN        NaN       NaN       NaN       5.0   \n",
      "13567   12554         1        NaN        NaN       NaN       NaN       3.0   \n",
      "13568   12554         2        NaN        NaN       NaN       NaN       4.0   \n",
      "13569   12556         1        NaN        NaN       NaN       NaN       6.0   \n",
      "13570   12556         2        NaN        NaN       NaN       NaN       6.0   \n",
      "13571   12556         3        NaN        NaN       NaN       NaN       6.0   \n",
      "13572   12556         4        NaN        NaN       NaN       NaN       6.0   \n",
      "13573   12561         1        NaN        NaN       NaN       NaN       6.0   \n",
      "13574   12561         2        NaN        NaN       NaN       NaN       6.0   \n",
      "13575   12564         1        NaN        NaN       NaN       NaN       3.0   \n",
      "13576   12565         1        NaN        NaN       NaN       NaN       6.0   \n",
      "13577   12565         2       35.0        1.0       8.0       NaN       NaN   \n",
      "13578   12566         1        NaN        NaN       NaN       NaN       6.0   \n",
      "13579   12566         2        NaN        NaN       NaN       NaN       6.0   \n",
      "13580   12568         1        NaN        NaN       NaN       NaN       1.0   \n",
      "13581   12568         2        NaN        NaN       NaN       NaN       5.0   \n",
      "13582   12568         3        NaN        NaN       NaN       NaN       4.0   \n",
      "13583   12569         1        NaN        NaN       NaN       NaN       3.0   \n",
      "13584   12569         2        NaN        NaN       NaN       NaN       6.0   \n",
      "13585   12570         1        NaN        NaN       NaN       NaN       3.0   \n",
      "13586   12570         2        NaN        NaN       NaN       NaN       3.0   \n",
      "13587   12570         3        NaN        NaN       NaN       NaN       3.0   \n",
      "13588   12571         1        NaN        NaN       NaN       NaN       6.0   \n",
      "13589   12571         2        NaN        NaN       NaN       NaN       3.0   \n",
      "13590   12571         3        NaN        NaN       NaN       NaN       3.0   \n",
      "13591   12571         4        NaN        NaN       NaN       NaN       6.0   \n",
      "13592   12571         5        NaN        NaN       NaN       NaN       6.0   \n",
      "\n",
      "       pregend2  nbrnaliv  multbrth     ...       laborfor_i  religion_i  \\\n",
      "0           NaN       1.0       NaN     ...                0           0   \n",
      "1           NaN       1.0       NaN     ...                0           0   \n",
      "2           NaN       3.0       5.0     ...                0           0   \n",
      "3           NaN       1.0       NaN     ...                0           0   \n",
      "4           NaN       1.0       NaN     ...                0           0   \n",
      "5           NaN       1.0       NaN     ...                0           0   \n",
      "6           NaN       1.0       NaN     ...                0           0   \n",
      "7           NaN       1.0       NaN     ...                0           0   \n",
      "8           NaN       1.0       NaN     ...                0           0   \n",
      "9           NaN       1.0       NaN     ...                0           0   \n",
      "10          NaN       1.0       NaN     ...                0           0   \n",
      "11          NaN       1.0       NaN     ...                0           0   \n",
      "12          NaN       1.0       NaN     ...                0           0   \n",
      "13          NaN       NaN       NaN     ...                0           0   \n",
      "14          NaN       NaN       NaN     ...                0           0   \n",
      "15          NaN       1.0       NaN     ...                0           0   \n",
      "16          NaN       1.0       NaN     ...                0           0   \n",
      "17          NaN       1.0       NaN     ...                0           0   \n",
      "18          NaN       NaN       NaN     ...                0           0   \n",
      "19          NaN       1.0       NaN     ...                0           0   \n",
      "20          NaN       1.0       NaN     ...                0           0   \n",
      "21          NaN       1.0       NaN     ...                0           0   \n",
      "22          NaN       NaN       NaN     ...                0           0   \n",
      "23          NaN       1.0       NaN     ...                0           0   \n",
      "24          NaN       1.0       NaN     ...                0           0   \n",
      "25          NaN       1.0       NaN     ...                0           0   \n",
      "26          NaN       1.0       NaN     ...                0           0   \n",
      "27          NaN       1.0       NaN     ...                0           0   \n",
      "28          NaN       1.0       NaN     ...                0           0   \n",
      "29          NaN       1.0       NaN     ...                0           0   \n",
      "...         ...       ...       ...     ...              ...         ...   \n",
      "13563       NaN       1.0       NaN     ...                0           0   \n",
      "13564       NaN       1.0       NaN     ...                0           0   \n",
      "13565       NaN       1.0       NaN     ...                0           0   \n",
      "13566       NaN       1.0       NaN     ...                0           0   \n",
      "13567       NaN       NaN       NaN     ...                0           0   \n",
      "13568       NaN       NaN       NaN     ...                0           0   \n",
      "13569       NaN       1.0       NaN     ...                0           0   \n",
      "13570       NaN       1.0       NaN     ...                0           0   \n",
      "13571       NaN       1.0       NaN     ...                0           0   \n",
      "13572       NaN       1.0       NaN     ...                0           0   \n",
      "13573       NaN       1.0       NaN     ...                0           0   \n",
      "13574       NaN       1.0       NaN     ...                0           0   \n",
      "13575       NaN       NaN       NaN     ...                0           0   \n",
      "13576       NaN       1.0       NaN     ...                0           0   \n",
      "13577       NaN       NaN       NaN     ...                0           0   \n",
      "13578       NaN       1.0       NaN     ...                0           0   \n",
      "13579       NaN       1.0       NaN     ...                0           0   \n",
      "13580       NaN       NaN       NaN     ...                0           0   \n",
      "13581       NaN       1.0       NaN     ...                0           0   \n",
      "13582       NaN       NaN       NaN     ...                0           0   \n",
      "13583       NaN       NaN       NaN     ...                0           0   \n",
      "13584       NaN       1.0       NaN     ...                0           0   \n",
      "13585       NaN       NaN       NaN     ...                0           0   \n",
      "13586       NaN       NaN       NaN     ...                0           0   \n",
      "13587       NaN       NaN       NaN     ...                0           0   \n",
      "13588       NaN       1.0       NaN     ...                0           0   \n",
      "13589       NaN       NaN       NaN     ...                0           0   \n",
      "13590       NaN       NaN       NaN     ...                0           0   \n",
      "13591       NaN       1.0       NaN     ...                0           0   \n",
      "13592       NaN       1.0       NaN     ...                0           0   \n",
      "\n",
      "       metro_i      basewgt  adj_mod_basewgt      finalwgt  secu_p  sest  \\\n",
      "0            0  3410.389399      3869.349602   6448.271112       2     9   \n",
      "1            0  3410.389399      3869.349602   6448.271112       2     9   \n",
      "2            0  7226.301740      8567.549110  12999.542264       2    12   \n",
      "3            0  7226.301740      8567.549110  12999.542264       2    12   \n",
      "4            0  7226.301740      8567.549110  12999.542264       2    12   \n",
      "5            0  4870.926435      5325.196999   8874.440799       1    23   \n",
      "6            0  4870.926435      5325.196999   8874.440799       1    23   \n",
      "7            0  4870.926435      5325.196999   8874.440799       1    23   \n",
      "8            0  3409.579565      3787.539000   6911.879921       2    14   \n",
      "9            0  3409.579565      3787.539000   6911.879921       2    14   \n",
      "10           0  3612.781968      4146.013572   6909.331618       1    31   \n",
      "11           0  2418.069494      2810.302771   3039.904507       2    56   \n",
      "12           0  2418.069494      2810.302771   3039.904507       2    56   \n",
      "13           0  2418.069494      2810.302771   3039.904507       2    56   \n",
      "14           0  1667.816099      3200.862017   5553.495599       1    33   \n",
      "15           0  1667.816099      3200.862017   5553.495599       1    33   \n",
      "16           0  1667.816099      3200.862017   5553.495599       1    33   \n",
      "17           0  2957.257457      3404.403067   4153.371741       2    14   \n",
      "18           0  2957.257457      3404.403067   4153.371741       2    14   \n",
      "19           0  3408.342437      3965.763949   7237.122630       1    48   \n",
      "20           0  3408.342437      3965.763949   7237.122630       1    48   \n",
      "21           0  6210.373020      8120.841310  13533.382043       2    64   \n",
      "22           0  6210.373020      8120.841310  13533.382043       2    64   \n",
      "23           0  3409.573258      4068.628645   7424.840414       1    27   \n",
      "24           0  3409.573258      4068.628645   7424.840414       1    27   \n",
      "25           0  3409.573258      4068.628645   7424.840414       1    27   \n",
      "26           0  3407.794208      3808.343516   6949.846082       2    57   \n",
      "27           0  3405.679025      4272.084519   5211.943113       1     2   \n",
      "28           0  3405.679025      4272.084519   5211.943113       1     2   \n",
      "29           0  3405.679025      4272.084519   5211.943113       1     2   \n",
      "...        ...          ...              ...           ...     ...   ...   \n",
      "13563        0  3453.545517      6628.022524  11499.619080       1    52   \n",
      "13564        0  3453.545517      6628.022524  11499.619080       1    52   \n",
      "13565        0  3080.452699      3745.326058   5268.550165       1    79   \n",
      "13566        0  2418.538866      3653.453268   3951.940400       2    75   \n",
      "13567        0  1914.676604      2177.957240   2764.045534       2    75   \n",
      "13568        0  1914.676604      2177.957240   2764.045534       2    75   \n",
      "13569        0  2474.619764      3250.573384   3965.699528       1    44   \n",
      "13570        0  2474.619764      3250.573384   3965.699528       1    44   \n",
      "13571        0  2474.619764      3250.573384   3965.699528       1    44   \n",
      "13572        0  2474.619764      3250.573384   3965.699528       1    44   \n",
      "13573        0  2418.089703      2698.650781   4497.301527       1    10   \n",
      "13574        0  2418.089703      2698.650781   4497.301527       1    10   \n",
      "13575        0  1820.850938      2129.214067   2768.191208       2    44   \n",
      "13576        0  3195.641221      3834.241709   6652.409365       1    78   \n",
      "13577        0  3195.641221      3834.241709   6652.409365       1    78   \n",
      "13578        0  2080.317155      2422.820274   2627.548587       2     2   \n",
      "13579        0  2080.317155      2422.820274   2627.548587       2     2   \n",
      "13580        0  2734.687353      4258.980140   7772.212858       2    28   \n",
      "13581        0  2734.687353      4258.980140   7772.212858       2    28   \n",
      "13582        0  2734.687353      4258.980140   7772.212858       2    28   \n",
      "13583        0  2580.967613      2925.167116   5075.164946       2    61   \n",
      "13584        0  2580.967613      2925.167116   5075.164946       2    61   \n",
      "13585        0  5181.311509      6205.829154  11325.017623       2    40   \n",
      "13586        0  5181.311509      6205.829154  11325.017623       2    40   \n",
      "13587        0  5181.311509      6205.829154  11325.017623       2    40   \n",
      "13588        0  4670.540953      5795.692880   6269.200989       1    78   \n",
      "13589        0  4670.540953      5795.692880   6269.200989       1    78   \n",
      "13590        0  4670.540953      5795.692880   6269.200989       1    78   \n",
      "13591        0  4670.540953      5795.692880   6269.200989       1    78   \n",
      "13592        0  4670.540953      5795.692880   6269.200989       1    78   \n",
      "\n",
      "       cmintvw  totalwgt_lb  \n",
      "0          NaN       8.8125  \n",
      "1          NaN       7.8750  \n",
      "2          NaN       9.1250  \n",
      "3          NaN       7.0000  \n",
      "4          NaN       6.1875  \n",
      "5          NaN       8.5625  \n",
      "6          NaN       9.5625  \n",
      "7          NaN       8.3750  \n",
      "8          NaN       7.5625  \n",
      "9          NaN       6.6250  \n",
      "10         NaN       7.8125  \n",
      "11         NaN       7.0000  \n",
      "12         NaN       4.0000  \n",
      "13         NaN          NaN  \n",
      "14         NaN          NaN  \n",
      "15         NaN       7.6875  \n",
      "16         NaN       7.5000  \n",
      "17         NaN       6.3125  \n",
      "18         NaN          NaN  \n",
      "19         NaN       8.7500  \n",
      "20         NaN       8.1875  \n",
      "21         NaN       5.5625  \n",
      "22         NaN          NaN  \n",
      "23         NaN       6.7500  \n",
      "24         NaN       7.3750  \n",
      "25         NaN       6.8125  \n",
      "26         NaN       8.1250  \n",
      "27         NaN       7.1250  \n",
      "28         NaN       6.0625  \n",
      "29         NaN       7.4375  \n",
      "...        ...          ...  \n",
      "13563      NaN       7.6875  \n",
      "13564      NaN       7.6250  \n",
      "13565      NaN       8.1250  \n",
      "13566      NaN       7.5000  \n",
      "13567      NaN          NaN  \n",
      "13568      NaN          NaN  \n",
      "13569      NaN       5.8125  \n",
      "13570      NaN       6.6875  \n",
      "13571      NaN       6.0000  \n",
      "13572      NaN       5.8125  \n",
      "13573      NaN       6.5625  \n",
      "13574      NaN       6.1250  \n",
      "13575      NaN          NaN  \n",
      "13576      NaN       6.4375  \n",
      "13577      NaN          NaN  \n",
      "13578      NaN       6.0000  \n",
      "13579      NaN       7.0000  \n",
      "13580      NaN          NaN  \n",
      "13581      NaN       6.3750  \n",
      "13582      NaN          NaN  \n",
      "13583      NaN          NaN  \n",
      "13584      NaN       6.3750  \n",
      "13585      NaN          NaN  \n",
      "13586      NaN          NaN  \n",
      "13587      NaN          NaN  \n",
      "13588      NaN       6.1875  \n",
      "13589      NaN          NaN  \n",
      "13590      NaN          NaN  \n",
      "13591      NaN       7.5000  \n",
      "13592      NaN       7.5000  \n",
      "\n",
      "[13593 rows x 244 columns]\n"
     ]
    }
   ],
   "source": [
    "from __future__ import print_function, division\n",
    "\n",
    "%matplotlib inline\n",
    "\n",
    "import numpy as np\n",
    "\n",
    "import nsfg\n",
    "import first"
   ]
  },
  {
   "cell_type": "markdown",
   "metadata": {},
   "source": [
    "Given a list of values, there are several ways to count the frequency of each value."
   ]
  },
  {
   "cell_type": "code",
   "execution_count": 3,
   "metadata": {
    "collapsed": true
   },
   "outputs": [],
   "source": [
    "t = [1, 2, 2, 3, 5]"
   ]
  },
  {
   "cell_type": "markdown",
   "metadata": {},
   "source": [
    "You can use a Python dictionary:"
   ]
  },
  {
   "cell_type": "code",
   "execution_count": 4,
   "metadata": {
    "collapsed": false
   },
   "outputs": [
    {
     "data": {
      "text/plain": [
       "{1: 1, 2: 2, 3: 1, 5: 1}"
      ]
     },
     "execution_count": 4,
     "metadata": {},
     "output_type": "execute_result"
    }
   ],
   "source": [
    "hist = {}\n",
    "for x in t:\n",
    "    hist[x] = hist.get(x, 0) + 1\n",
    "    \n",
    "hist"
   ]
  },
  {
   "cell_type": "markdown",
   "metadata": {},
   "source": [
    "You can use a `Counter` (which is a dictionary with additional methods):"
   ]
  },
  {
   "cell_type": "code",
   "execution_count": 5,
   "metadata": {
    "collapsed": false
   },
   "outputs": [
    {
     "data": {
      "text/plain": [
       "Counter({1: 1, 2: 2, 3: 1, 5: 1})"
      ]
     },
     "execution_count": 5,
     "metadata": {},
     "output_type": "execute_result"
    }
   ],
   "source": [
    "from collections import Counter\n",
    "counter = Counter(t)\n",
    "counter"
   ]
  },
  {
   "cell_type": "markdown",
   "metadata": {},
   "source": [
    "Or you can use the `Hist` object provided by `thinkstats2`:"
   ]
  },
  {
   "cell_type": "code",
   "execution_count": 6,
   "metadata": {
    "collapsed": false
   },
   "outputs": [
    {
     "data": {
      "text/plain": [
       "Hist({1: 1, 2: 2, 3: 1, 5: 1})"
      ]
     },
     "execution_count": 6,
     "metadata": {},
     "output_type": "execute_result"
    }
   ],
   "source": [
    "import thinkstats2\n",
    "hist = thinkstats2.Hist([1, 2, 2, 3, 5])\n",
    "hist"
   ]
  },
  {
   "cell_type": "markdown",
   "metadata": {},
   "source": [
    "`Hist` provides `Freq`, which looks up the frequency of a value."
   ]
  },
  {
   "cell_type": "code",
   "execution_count": 7,
   "metadata": {
    "collapsed": false
   },
   "outputs": [
    {
     "data": {
      "text/plain": [
       "2"
      ]
     },
     "execution_count": 7,
     "metadata": {},
     "output_type": "execute_result"
    }
   ],
   "source": [
    "hist.Freq(2)"
   ]
  },
  {
   "cell_type": "markdown",
   "metadata": {},
   "source": [
    "You can also use the bracket operator, which does the same thing."
   ]
  },
  {
   "cell_type": "code",
   "execution_count": 8,
   "metadata": {
    "collapsed": false
   },
   "outputs": [
    {
     "data": {
      "text/plain": [
       "2"
      ]
     },
     "execution_count": 8,
     "metadata": {},
     "output_type": "execute_result"
    }
   ],
   "source": [
    "hist[2]"
   ]
  },
  {
   "cell_type": "markdown",
   "metadata": {},
   "source": [
    "If the value does not appear, it has frequency 0."
   ]
  },
  {
   "cell_type": "code",
   "execution_count": 9,
   "metadata": {
    "collapsed": false
   },
   "outputs": [
    {
     "data": {
      "text/plain": [
       "0"
      ]
     },
     "execution_count": 9,
     "metadata": {},
     "output_type": "execute_result"
    }
   ],
   "source": [
    "hist[4]"
   ]
  },
  {
   "cell_type": "markdown",
   "metadata": {},
   "source": [
    "The `Values` method returns the values:"
   ]
  },
  {
   "cell_type": "code",
   "execution_count": 10,
   "metadata": {
    "collapsed": false
   },
   "outputs": [
    {
     "data": {
      "text/plain": [
       "dict_keys([1, 2, 3, 5])"
      ]
     },
     "execution_count": 10,
     "metadata": {},
     "output_type": "execute_result"
    }
   ],
   "source": [
    "hist.Values()"
   ]
  },
  {
   "cell_type": "markdown",
   "metadata": {},
   "source": [
    "So you can iterate the values and their frequencies like this:"
   ]
  },
  {
   "cell_type": "code",
   "execution_count": 11,
   "metadata": {
    "collapsed": false
   },
   "outputs": [
    {
     "name": "stdout",
     "output_type": "stream",
     "text": [
      "1 1\n",
      "2 2\n",
      "3 1\n",
      "5 1\n"
     ]
    }
   ],
   "source": [
    "for val in sorted(hist.Values()):\n",
    "    print(val, hist[val])"
   ]
  },
  {
   "cell_type": "markdown",
   "metadata": {},
   "source": [
    "Or you can use the `Items` method:"
   ]
  },
  {
   "cell_type": "code",
   "execution_count": 12,
   "metadata": {
    "collapsed": false
   },
   "outputs": [
    {
     "name": "stdout",
     "output_type": "stream",
     "text": [
      "1 1\n",
      "2 2\n",
      "3 1\n",
      "5 1\n"
     ]
    }
   ],
   "source": [
    "for val, freq in hist.Items():\n",
    "     print(val, freq)"
   ]
  },
  {
   "cell_type": "markdown",
   "metadata": {},
   "source": [
    "`thinkplot` is a wrapper for `matplotlib` that provides functions that work with the objects in `thinkstats2`.\n",
    "\n",
    "For example `Hist` plots the values and their frequencies as a bar graph.\n",
    "\n",
    "`Config` takes parameters that label the x and y axes, among other things."
   ]
  },
  {
   "cell_type": "code",
   "execution_count": 13,
   "metadata": {
    "collapsed": false
   },
   "outputs": [
    {
     "data": {
      "image/png": "[encoded data removed]",
      "text/plain": [
       "<matplotlib.figure.Figure at 0x11b5be7b8>"
      ]
     },
     "metadata": {},
     "output_type": "display_data"
    }
   ],
   "source": [
    "import thinkplot\n",
    "thinkplot.Hist(hist)\n",
    "thinkplot.Config(xlabel='value', ylabel='frequency')"
   ]
  },
  {
   "cell_type": "markdown",
   "metadata": {},
   "source": [
    "As an example, I'll replicate some of the figures from the book.\n",
    "\n",
    "First, I'll load the data from the pregnancy file and select the records for live births."
   ]
  },
  {
   "cell_type": "code",
   "execution_count": 14,
   "metadata": {
    "collapsed": true
   },
   "outputs": [],
   "source": [
    "preg = nsfg.ReadFemPreg()\n",
    "live = preg[preg.outcome == 1]"
   ]
  },
  {
   "cell_type": "markdown",
   "metadata": {},
   "source": [
    "Here's the histogram of birth weights in pounds.  Notice that `Hist` works with anything iterable, including a Pandas Series.  The `label` attribute appears in the legend when you plot the `Hist`. "
   ]
  },
  {
   "cell_type": "code",
   "execution_count": 15,
   "metadata": {
    "collapsed": false
   },
   "outputs": [
    {
     "data": {
      "image/png": "[encoded data removed]",
      "text/plain": [
       "<matplotlib.figure.Figure at 0x11cc19240>"
      ]
     },
     "metadata": {},
     "output_type": "display_data"
    }
   ],
   "source": [
    "hist = thinkstats2.Hist(live.birthwgt_lb, label='birthwgt_lb')\n",
    "thinkplot.Hist(hist)\n",
    "thinkplot.Config(xlabel='Birth weight (pounds)', ylabel='Count')"
   ]
  },
  {
   "cell_type": "markdown",
   "metadata": {},
   "source": [
    "Before plotting the ages, I'll apply `floor` to round down:"
   ]
  },
  {
   "cell_type": "code",
   "execution_count": 16,
   "metadata": {
    "collapsed": false
   },
   "outputs": [],
   "source": [
    "ages = np.floor(live.agepreg)"
   ]
  },
  {
   "cell_type": "code",
   "execution_count": 17,
   "metadata": {
    "collapsed": false
   },
   "outputs": [
    {
     "data": {
      "image/png": "[encoded data removed]",
      "text/plain": [
       "<matplotlib.figure.Figure at 0x11cc19080>"
      ]
     },
     "metadata": {},
     "output_type": "display_data"
    }
   ],
   "source": [
    "hist = thinkstats2.Hist(ages, label='agepreg')\n",
    "thinkplot.Hist(hist)\n",
    "thinkplot.Config(xlabel='years', ylabel='Count')"
   ]
  },
  {
   "cell_type": "code",
   "execution_count": 18,
   "metadata": {
    "collapsed": true
   },
   "outputs": [],
   "source": [
    "preglengths = np.floor(live.prglngth)"
   ]
  },
  {
   "cell_type": "markdown",
   "metadata": {},
   "source": [
    "As an exercise, plot the histogram of pregnancy lengths (column `prglngth`)."
   ]
  },
  {
   "cell_type": "code",
   "execution_count": 19,
   "metadata": {
    "collapsed": false
   },
   "outputs": [
    {
     "data": {
      "image/png": "[encoded data removed]",
      "text/plain": [
       "<matplotlib.figure.Figure at 0x124f73ba8>"
      ]
     },
     "metadata": {},
     "output_type": "display_data"
    }
   ],
   "source": [
    "# Solution goes here\n",
    "hist = thinkstats2.Hist(preglengths, label='prglngth')\n",
    "thinkplot.Hist(hist)\n",
    "thinkplot.Config(xlabel='weeks', ylabel='Count')"
   ]
  },
  {
   "cell_type": "code",
   "execution_count": 20,
   "metadata": {
    "collapsed": false
   },
   "outputs": [
    {
     "data": {
      "text/plain": [
       "0    39.0\n",
       "1    39.0\n",
       "2    39.0\n",
       "3    39.0\n",
       "4    39.0\n",
       "Name: prglngth, dtype: float64"
      ]
     },
     "execution_count": 20,
     "metadata": {},
     "output_type": "execute_result"
    }
   ],
   "source": [
    "preglengths.head()"
   ]
  },
  {
   "cell_type": "markdown",
   "metadata": {},
   "source": [
    "`Hist` provides smallest, which select the lowest values and their frequencies."
   ]
  },
  {
   "cell_type": "code",
   "execution_count": 21,
   "metadata": {
    "collapsed": false
   },
   "outputs": [
    {
     "name": "stdout",
     "output_type": "stream",
     "text": [
      "0.0 1\n",
      "4.0 1\n",
      "9.0 1\n",
      "13.0 1\n",
      "17.0 2\n",
      "18.0 1\n",
      "19.0 1\n",
      "20.0 1\n",
      "21.0 2\n",
      "22.0 7\n"
     ]
    }
   ],
   "source": [
    "for weeks, freq in hist.Smallest(10):\n",
    "    print(weeks, freq)"
   ]
  },
  {
   "cell_type": "markdown",
   "metadata": {},
   "source": [
    "Use `Largest` to display the longest pregnancy lengths."
   ]
  },
  {
   "cell_type": "code",
   "execution_count": 22,
   "metadata": {
    "collapsed": false
   },
   "outputs": [
    {
     "name": "stdout",
     "output_type": "stream",
     "text": [
      "50.0 2\n",
      "48.0 7\n",
      "47.0 1\n",
      "46.0 1\n",
      "45.0 10\n",
      "44.0 46\n",
      "43.0 148\n",
      "42.0 328\n",
      "41.0 587\n",
      "40.0 1116\n"
     ]
    }
   ],
   "source": [
    "# Solution goes here\n",
    "for weeks, freq in hist.Largest(10):\n",
    "    print(weeks, freq)"
   ]
  },
  {
   "cell_type": "markdown",
   "metadata": {},
   "source": [
    "From live births, we can selection first babies and others using `birthord`, then compute histograms of pregnancy length for the two groups."
   ]
  },
  {
   "cell_type": "code",
   "execution_count": 50,
   "metadata": {
    "collapsed": true
   },
   "outputs": [],
   "source": [
    "firsts = live[live.birthord == 1]\n",
    "others = live[live.birthord != 1]\n",
    "\n",
    "first_hist = thinkstats2.Hist(firsts.prglngth, label='first')\n",
    "other_hist = thinkstats2.Hist(others.prglngth, label='other')"
   ]
  },
  {
   "cell_type": "markdown",
   "metadata": {},
   "source": [
    "We can use `width` and `align` to plot two histograms side-by-side."
   ]
  },
  {
   "cell_type": "code",
   "execution_count": 51,
   "metadata": {
    "collapsed": false
   },
   "outputs": [
    {
     "data": {
      "image/png": "[encoded data removed]",
      "text/plain": [
       "<matplotlib.figure.Figure at 0x11531da50>"
      ]
     },
     "metadata": {},
     "output_type": "display_data"
    }
   ],
   "source": [
    "\n",
    "width = 0.45\n",
    "thinkplot.PrePlot(2)\n",
    "thinkplot.Hist(first_hist, align='right', width=width)\n",
    "thinkplot.Hist(other_hist, align='left', width=width)\n",
    "thinkplot.Config(xlabel='weeks', ylabel='Count', xlim=[27, 46])"
   ]
  },
  {
   "cell_type": "markdown",
   "metadata": {},
   "source": [
    "`Series` provides methods to compute summary statistics:"
   ]
  },
  {
   "cell_type": "code",
   "execution_count": 52,
   "metadata": {
    "collapsed": true
   },
   "outputs": [],
   "source": [
    "mean = live.prglngth.mean()\n",
    "var = live.prglngth.var()\n",
    "std = live.prglngth.std()"
   ]
  },
  {
   "cell_type": "code",
   "execution_count": 58,
   "metadata": {
    "collapsed": false
   },
   "outputs": [
    {
     "data": {
      "text/plain": [
       "pandas.core.series.Series"
      ]
     },
     "execution_count": 58,
     "metadata": {},
     "output_type": "execute_result"
    }
   ],
   "source": [
    "type(live.prglngth)"
   ]
  },
  {
   "cell_type": "markdown",
   "metadata": {},
   "source": [
    "Here are the mean and standard deviation:"
   ]
  },
  {
   "cell_type": "code",
   "execution_count": 53,
   "metadata": {
    "collapsed": false
   },
   "outputs": [
    {
     "data": {
      "text/plain": [
       "(38.56055968517709, 2.702343810070593)"
      ]
     },
     "execution_count": 53,
     "metadata": {},
     "output_type": "execute_result"
    }
   ],
   "source": [
    "mean, std"
   ]
  },
  {
   "cell_type": "markdown",
   "metadata": {},
   "source": [
    "As an exercise, confirm that `std` is the square root of `var`:"
   ]
  },
  {
   "cell_type": "code",
   "execution_count": 55,
   "metadata": {
    "collapsed": false
   },
   "outputs": [
    {
     "name": "stdout",
     "output_type": "stream",
     "text": [
      "2.70234381007 7.30266206783\n",
      "True\n"
     ]
    }
   ],
   "source": [
    "import math\n",
    "# Solution goes here\n",
    "print(std, var)\n",
    "print(std == math.sqrt(var))"
   ]
  },
  {
   "cell_type": "markdown",
   "metadata": {},
   "source": [
    "Here's are the mean pregnancy lengths for first babies and others:"
   ]
  },
  {
   "cell_type": "code",
   "execution_count": 56,
   "metadata": {
    "collapsed": false
   },
   "outputs": [
    {
     "data": {
      "text/plain": [
       "(38.60095173351461, 38.52291446673706)"
      ]
     },
     "execution_count": 56,
     "metadata": {},
     "output_type": "execute_result"
    }
   ],
   "source": [
    "firsts.prglngth.mean(), others.prglngth.mean()"
   ]
  },
  {
   "cell_type": "markdown",
   "metadata": {},
   "source": [
    "And here's the difference (in weeks):"
   ]
  },
  {
   "cell_type": "code",
   "execution_count": 57,
   "metadata": {
    "collapsed": false
   },
   "outputs": [
    {
     "data": {
      "text/plain": [
       "0.07803726677754952"
      ]
     },
     "execution_count": 57,
     "metadata": {},
     "output_type": "execute_result"
    }
   ],
   "source": [
    "firsts.prglngth.mean() - others.prglngth.mean()"
   ]
  },
  {
   "cell_type": "code",
   "execution_count": 59,
   "metadata": {
    "collapsed": false
   },
   "outputs": [
    {
     "data": {
      "text/plain": [
       "13.11026081862832"
      ]
     },
     "execution_count": 59,
     "metadata": {},
     "output_type": "execute_result"
    }
   ],
   "source": [
    "(firsts.prglngth.mean() - others.prglngth.mean())*(7*24) #in hours"
   ]
  },
  {
   "cell_type": "markdown",
   "metadata": {},
   "source": [
    "This functon computes the Cohen effect size, which is the difference in means expressed in number of standard deviations:"
   ]
  },
  {
   "cell_type": "code",
   "execution_count": 61,
   "metadata": {
    "collapsed": true
   },
   "outputs": [],
   "source": [
    "def CohenEffectSize(group1, group2):\n",
    "    \"\"\"Computes Cohen's effect size for two groups.\n",
    "    \n",
    "    group1: Series or DataFrame\n",
    "    group2: Series or DataFrame\n",
    "    \n",
    "    returns: float if the arguments are Series;\n",
    "             Series if the arguments are DataFrames\n",
    "    \"\"\"\n",
    "    diff = group1.mean() - group2.mean()\n",
    "\n",
    "    var1 = group1.var()\n",
    "    var2 = group2.var()\n",
    "    n1, n2 = len(group1), len(group2)\n",
    "\n",
    "    pooled_var = (n1 * var1 + n2 * var2) / (n1 + n2)\n",
    "    d = diff / np.sqrt(pooled_var)\n",
    "    return d"
   ]
  },
  {
   "cell_type": "markdown",
   "metadata": {},
   "source": [
    "Compute the Cohen effect size for the difference in pregnancy length for first babies and others."
   ]
  },
  {
   "cell_type": "code",
   "execution_count": 63,
   "metadata": {
    "collapsed": false
   },
   "outputs": [
    {
     "data": {
      "text/plain": [
       "0.028879044654449883"
      ]
     },
     "execution_count": 63,
     "metadata": {},
     "output_type": "execute_result"
    }
   ],
   "source": [
    "# Solution goes here\n",
    "CohenEffectSize(firsts, others).prglngth"
   ]
  },
  {
   "cell_type": "markdown",
   "metadata": {
    "collapsed": true
   },
   "source": [
    "## Exercises"
   ]
  },
  {
   "cell_type": "markdown",
   "metadata": {},
   "source": [
    "Using the variable `totalwgt_lb`, investigate whether first babies are lighter or heavier than others. \n",
    "\n",
    "Compute Cohen’s effect size to quantify the difference between the groups.  How does it compare to the difference in pregnancy length?"
   ]
  },
  {
   "cell_type": "code",
   "execution_count": 64,
   "metadata": {
    "collapsed": false
   },
   "outputs": [
    {
     "data": {
      "text/plain": [
       "-0.088672927072602006"
      ]
     },
     "execution_count": 64,
     "metadata": {},
     "output_type": "execute_result"
    }
   ],
   "source": [
    "# Solution goes here\n",
    "CohenEffectSize(firsts, others).totalwgt_lb"
   ]
  },
  {
   "cell_type": "code",
   "execution_count": 30,
   "metadata": {
    "collapsed": false
   },
   "outputs": [],
   "source": [
    "# Solution goes here\n",
    "Means first borns are slightly lighter. More significant than pregnancy length."
   ]
  },
  {
   "cell_type": "markdown",
   "metadata": {},
   "source": [
    "For the next few exercises, we'll load the respondent file:"
   ]
  },
  {
   "cell_type": "code",
   "execution_count": 23,
   "metadata": {
    "collapsed": false
   },
   "outputs": [],
   "source": [
    "resp = nsfg.ReadFemResp()"
   ]
  },
  {
   "cell_type": "markdown",
   "metadata": {},
   "source": [
    "Make a histogram of <tt>totincr</tt> the total income for the respondent's family.  To interpret the codes see the [codebook](http://www.icpsr.umich.edu/nsfg6/Controller?displayPage=labelDetails&fileCode=FEM&section=R&subSec=7876&srtLabel=607543)."
   ]
  },
  {
   "cell_type": "code",
   "execution_count": 31,
   "metadata": {
    "collapsed": true
   },
   "outputs": [
    {
     "data": {
      "text/plain": [
       "0        9\n",
       "1       10\n",
       "2        5\n",
       "3       13\n",
       "4        6\n",
       "5        7\n",
       "6        6\n",
       "7       12\n",
       "8        6\n",
       "9       12\n",
       "10       9\n",
       "11      13\n",
       "12       7\n",
       "13       8\n",
       "14       6\n",
       "15       9\n",
       "16       5\n",
       "17       2\n",
       "18       9\n",
       "19       4\n",
       "20      12\n",
       "21      12\n",
       "22       8\n",
       "23      13\n",
       "24      10\n",
       "25       6\n",
       "26      11\n",
       "27       2\n",
       "28      11\n",
       "29       9\n",
       "        ..\n",
       "7613    13\n",
       "7614     7\n",
       "7615    14\n",
       "7616     4\n",
       "7617    12\n",
       "7618     8\n",
       "7619    14\n",
       "7620     8\n",
       "7621    11\n",
       "7622    14\n",
       "7623    14\n",
       "7624    12\n",
       "7625    14\n",
       "7626     2\n",
       "7627     3\n",
       "7628    14\n",
       "7629     4\n",
       "7630     5\n",
       "7631     1\n",
       "7632     6\n",
       "7633     9\n",
       "7634     5\n",
       "7635     8\n",
       "7636     3\n",
       "7637     8\n",
       "7638    14\n",
       "7639    14\n",
       "7640    10\n",
       "7641    13\n",
       "7642    11\n",
       "Name: totincr, Length: 7643, dtype: int64"
      ]
     },
     "execution_count": 31,
     "metadata": {},
     "output_type": "execute_result"
    }
   ],
   "source": [
    "incomes = resp.totincr\n",
    "incomes"
   ]
  },
  {
   "cell_type": "code",
   "execution_count": 34,
   "metadata": {
    "collapsed": false
   },
   "outputs": [
    {
     "data": {
      "image/png": "[encoded data removed]",
      "text/plain": [
       "<matplotlib.figure.Figure at 0x124f87128>"
      ]
     },
     "metadata": {},
     "output_type": "display_data"
    }
   ],
   "source": [
    "# Solution goes here\n",
    "incomes = resp.totincr\n",
    "hist = thinkstats2.Hist(incomes, label='totincr')\n",
    "thinkplot.Hist(hist)\n",
    "thinkplot.Config(xlabel='income coefficient', ylabel='Count')"
   ]
  },
  {
   "cell_type": "markdown",
   "metadata": {},
   "source": [
    "Make a histogram of <tt>age_r</tt>, the respondent's age at the time of interview."
   ]
  },
  {
   "cell_type": "code",
   "execution_count": 35,
   "metadata": {
    "collapsed": false
   },
   "outputs": [
    {
     "data": {
      "image/png": "[encoded data removed]",
      "text/plain": [
       "<matplotlib.figure.Figure at 0x1286944e0>"
      ]
     },
     "metadata": {},
     "output_type": "display_data"
    }
   ],
   "source": [
    "# Solution goes here\n",
    "ages = resp.age_r\n",
    "hist = thinkstats2.Hist(ages, label='age_r')\n",
    "thinkplot.Hist(hist)\n",
    "thinkplot.Config(xlabel='age', ylabel='Count')"
   ]
  },
  {
   "cell_type": "markdown",
   "metadata": {},
   "source": [
    "Make a histogram of <tt>numfmhh</tt>, the number of people in the respondent's household."
   ]
  },
  {
   "cell_type": "code",
   "execution_count": 36,
   "metadata": {
    "collapsed": false
   },
   "outputs": [
    {
     "data": {
      "image/png": "[encoded data removed]",
      "text/plain": [
       "<matplotlib.figure.Figure at 0x123394dd8>"
      ]
     },
     "metadata": {},
     "output_type": "display_data"
    }
   ],
   "source": [
    "# Solution goes here\n",
    "hist = thinkstats2.Hist(resp.numfmhh, label= 'numfmhh')\n",
    "thinkplot.Hist(hist)\n",
    "thinkplot.Config(xlabel='Household size', ylabel='Count')"
   ]
  },
  {
   "cell_type": "markdown",
   "metadata": {},
   "source": [
    "Make a histogram of <tt>parity</tt>, the number of children borne by the respondent.  How would you describe this distribution?"
   ]
  },
  {
   "cell_type": "code",
   "execution_count": 50,
   "metadata": {
    "collapsed": false
   },
   "outputs": [
    {
     "data": {
      "image/png": "[encoded data removed]",
      "text/plain": [
       "<matplotlib.figure.Figure at 0x1285fa5c0>"
      ]
     },
     "metadata": {},
     "output_type": "display_data"
    }
   ],
   "source": [
    "# Solution goes here\n",
    "hist = thinkstats2.Hist(resp.parity, label= 'parity')\n",
    "thinkplot.Hist(hist)\n",
    "thinkplot.Config(xlabel='Children', ylabel='Count')"
   ]
  },
  {
   "cell_type": "markdown",
   "metadata": {},
   "source": [
    "Use Hist.Largest to find the largest values of <tt>parity</tt>."
   ]
  },
  {
   "cell_type": "code",
   "execution_count": 51,
   "metadata": {
    "collapsed": false
   },
   "outputs": [
    {
     "data": {
      "text/plain": [
       "[(22, 1), (16, 1), (10, 3), (9, 2), (8, 8)]"
      ]
     },
     "execution_count": 51,
     "metadata": {},
     "output_type": "execute_result"
    }
   ],
   "source": [
    "# Solution goes here\n",
    "hist.Largest(5)"
   ]
  },
  {
   "cell_type": "markdown",
   "metadata": {},
   "source": [
    "Let's investigate whether people with higher income have higher parity.  Keep in mind that in this study, we are observing different people at different times during their lives, so this data is not the best choice for answering this question.  But for now let's take it at face value.\n",
    "\n",
    "Use <tt>totincr</tt> to select the respondents with the highest income (level 14).  Plot the histogram of <tt>parity</tt> for just the high income respondents."
   ]
  },
  {
   "cell_type": "code",
   "execution_count": 52,
   "metadata": {
    "collapsed": false
   },
   "outputs": [
    {
     "data": {
      "text/html": [
       "<div>\n",
       "<style>\n",
       "    .dataframe thead tr:only-child th {\n",
       "        text-align: right;\n",
       "    }\n",
       "\n",
       "    .dataframe thead th {\n",
       "        text-align: left;\n",
       "    }\n",
       "\n",
       "    .dataframe tbody tr th {\n",
       "        vertical-align: top;\n",
       "    }\n",
       "</style>\n",
       "<table border=\"1\" class=\"dataframe\">\n",
       "  <thead>\n",
       "    <tr style=\"text-align: right;\">\n",
       "      <th></th>\n",
       "      <th>caseid</th>\n",
       "      <th>rscrinf</th>\n",
       "      <th>rdormres</th>\n",
       "      <th>rostscrn</th>\n",
       "      <th>rscreenhisp</th>\n",
       "      <th>rscreenrace</th>\n",
       "      <th>age_a</th>\n",
       "      <th>age_r</th>\n",
       "      <th>cmbirth</th>\n",
       "      <th>agescrn</th>\n",
       "      <th>...</th>\n",
       "      <th>pubassis_i</th>\n",
       "      <th>basewgt</th>\n",
       "      <th>adj_mod_basewgt</th>\n",
       "      <th>finalwgt</th>\n",
       "      <th>secu_r</th>\n",
       "      <th>sest</th>\n",
       "      <th>cmintvw</th>\n",
       "      <th>cmlstyr</th>\n",
       "      <th>screentime</th>\n",
       "      <th>intvlngth</th>\n",
       "    </tr>\n",
       "  </thead>\n",
       "  <tbody>\n",
       "    <tr>\n",
       "      <th>0</th>\n",
       "      <td>2298</td>\n",
       "      <td>1</td>\n",
       "      <td>5</td>\n",
       "      <td>5</td>\n",
       "      <td>1</td>\n",
       "      <td>5.0</td>\n",
       "      <td>27</td>\n",
       "      <td>27</td>\n",
       "      <td>902</td>\n",
       "      <td>27</td>\n",
       "      <td>...</td>\n",
       "      <td>0</td>\n",
       "      <td>3247.916977</td>\n",
       "      <td>5123.759559</td>\n",
       "      <td>5556.717241</td>\n",
       "      <td>2</td>\n",
       "      <td>18</td>\n",
       "      <td>1234</td>\n",
       "      <td>1222</td>\n",
       "      <td>18:26:36</td>\n",
       "      <td>110.492667</td>\n",
       "    </tr>\n",
       "    <tr>\n",
       "      <th>1</th>\n",
       "      <td>5012</td>\n",
       "      <td>1</td>\n",
       "      <td>5</td>\n",
       "      <td>1</td>\n",
       "      <td>5</td>\n",
       "      <td>5.0</td>\n",
       "      <td>42</td>\n",
       "      <td>42</td>\n",
       "      <td>718</td>\n",
       "      <td>42</td>\n",
       "      <td>...</td>\n",
       "      <td>0</td>\n",
       "      <td>2335.279149</td>\n",
       "      <td>2846.799490</td>\n",
       "      <td>4744.191350</td>\n",
       "      <td>2</td>\n",
       "      <td>18</td>\n",
       "      <td>1233</td>\n",
       "      <td>1221</td>\n",
       "      <td>16:30:59</td>\n",
       "      <td>64.294000</td>\n",
       "    </tr>\n",
       "    <tr>\n",
       "      <th>2</th>\n",
       "      <td>11586</td>\n",
       "      <td>1</td>\n",
       "      <td>5</td>\n",
       "      <td>1</td>\n",
       "      <td>5</td>\n",
       "      <td>5.0</td>\n",
       "      <td>43</td>\n",
       "      <td>43</td>\n",
       "      <td>708</td>\n",
       "      <td>43</td>\n",
       "      <td>...</td>\n",
       "      <td>0</td>\n",
       "      <td>2335.279149</td>\n",
       "      <td>2846.799490</td>\n",
       "      <td>4744.191350</td>\n",
       "      <td>2</td>\n",
       "      <td>18</td>\n",
       "      <td>1234</td>\n",
       "      <td>1222</td>\n",
       "      <td>18:19:09</td>\n",
       "      <td>75.149167</td>\n",
       "    </tr>\n",
       "    <tr>\n",
       "      <th>3</th>\n",
       "      <td>6794</td>\n",
       "      <td>5</td>\n",
       "      <td>5</td>\n",
       "      <td>4</td>\n",
       "      <td>1</td>\n",
       "      <td>5.0</td>\n",
       "      <td>15</td>\n",
       "      <td>15</td>\n",
       "      <td>1042</td>\n",
       "      <td>15</td>\n",
       "      <td>...</td>\n",
       "      <td>0</td>\n",
       "      <td>3783.152221</td>\n",
       "      <td>5071.464231</td>\n",
       "      <td>5923.977368</td>\n",
       "      <td>2</td>\n",
       "      <td>18</td>\n",
       "      <td>1234</td>\n",
       "      <td>1222</td>\n",
       "      <td>15:54:43</td>\n",
       "      <td>28.642833</td>\n",
       "    </tr>\n",
       "    <tr>\n",
       "      <th>4</th>\n",
       "      <td>616</td>\n",
       "      <td>1</td>\n",
       "      <td>5</td>\n",
       "      <td>4</td>\n",
       "      <td>1</td>\n",
       "      <td>5.0</td>\n",
       "      <td>20</td>\n",
       "      <td>20</td>\n",
       "      <td>991</td>\n",
       "      <td>20</td>\n",
       "      <td>...</td>\n",
       "      <td>0</td>\n",
       "      <td>5341.329968</td>\n",
       "      <td>6437.335772</td>\n",
       "      <td>7229.128072</td>\n",
       "      <td>2</td>\n",
       "      <td>18</td>\n",
       "      <td>1233</td>\n",
       "      <td>1221</td>\n",
       "      <td>14:19:44</td>\n",
       "      <td>69.502667</td>\n",
       "    </tr>\n",
       "  </tbody>\n",
       "</table>\n",
       "<p>5 rows × 3087 columns</p>\n",
       "</div>"
      ],
      "text/plain": [
       "   caseid  rscrinf  rdormres  rostscrn  rscreenhisp  rscreenrace  age_a  \\\n",
       "0    2298        1         5         5            1          5.0     27   \n",
       "1    5012        1         5         1            5          5.0     42   \n",
       "2   11586        1         5         1            5          5.0     43   \n",
       "3    6794        5         5         4            1          5.0     15   \n",
       "4     616        1         5         4            1          5.0     20   \n",
       "\n",
       "   age_r  cmbirth  agescrn     ...      pubassis_i      basewgt  \\\n",
       "0     27      902       27     ...               0  3247.916977   \n",
       "1     42      718       42     ...               0  2335.279149   \n",
       "2     43      708       43     ...               0  2335.279149   \n",
       "3     15     1042       15     ...               0  3783.152221   \n",
       "4     20      991       20     ...               0  5341.329968   \n",
       "\n",
       "   adj_mod_basewgt     finalwgt  secu_r  sest  cmintvw  cmlstyr  screentime  \\\n",
       "0      5123.759559  5556.717241       2    18     1234     1222    18:26:36   \n",
       "1      2846.799490  4744.191350       2    18     1233     1221    16:30:59   \n",
       "2      2846.799490  4744.191350       2    18     1234     1222    18:19:09   \n",
       "3      5071.464231  5923.977368       2    18     1234     1222    15:54:43   \n",
       "4      6437.335772  7229.128072       2    18     1233     1221    14:19:44   \n",
       "\n",
       "    intvlngth  \n",
       "0  110.492667  \n",
       "1   64.294000  \n",
       "2   75.149167  \n",
       "3   28.642833  \n",
       "4   69.502667  \n",
       "\n",
       "[5 rows x 3087 columns]"
      ]
     },
     "execution_count": 52,
     "metadata": {},
     "output_type": "execute_result"
    }
   ],
   "source": [
    "resp.head()"
   ]
  },
  {
   "cell_type": "code",
   "execution_count": 53,
   "metadata": {
    "collapsed": false
   },
   "outputs": [
    {
     "name": "stdout",
     "output_type": "stream",
     "text": [
      "0        9\n",
      "1       10\n",
      "2        5\n",
      "3       13\n",
      "4        6\n",
      "5        7\n",
      "6        6\n",
      "7       12\n",
      "8        6\n",
      "9       12\n",
      "10       9\n",
      "11      13\n",
      "12       7\n",
      "13       8\n",
      "14       6\n",
      "15       9\n",
      "16       5\n",
      "17       2\n",
      "18       9\n",
      "19       4\n",
      "20      12\n",
      "21      12\n",
      "22       8\n",
      "23      13\n",
      "24      10\n",
      "25       6\n",
      "26      11\n",
      "27       2\n",
      "28      11\n",
      "29       9\n",
      "        ..\n",
      "7613    13\n",
      "7614     7\n",
      "7615    14\n",
      "7616     4\n",
      "7617    12\n",
      "7618     8\n",
      "7619    14\n",
      "7620     8\n",
      "7621    11\n",
      "7622    14\n",
      "7623    14\n",
      "7624    12\n",
      "7625    14\n",
      "7626     2\n",
      "7627     3\n",
      "7628    14\n",
      "7629     4\n",
      "7630     5\n",
      "7631     1\n",
      "7632     6\n",
      "7633     9\n",
      "7634     5\n",
      "7635     8\n",
      "7636     3\n",
      "7637     8\n",
      "7638    14\n",
      "7639    14\n",
      "7640    10\n",
      "7641    13\n",
      "7642    11\n",
      "Name: totincr, Length: 7643, dtype: int64\n"
     ]
    }
   ],
   "source": [
    "print(resp.totincr)"
   ]
  },
  {
   "cell_type": "code",
   "execution_count": 54,
   "metadata": {
    "collapsed": false
   },
   "outputs": [
    {
     "data": {
      "text/html": [
       "<div>\n",
       "<style>\n",
       "    .dataframe thead tr:only-child th {\n",
       "        text-align: right;\n",
       "    }\n",
       "\n",
       "    .dataframe thead th {\n",
       "        text-align: left;\n",
       "    }\n",
       "\n",
       "    .dataframe tbody tr th {\n",
       "        vertical-align: top;\n",
       "    }\n",
       "</style>\n",
       "<table border=\"1\" class=\"dataframe\">\n",
       "  <thead>\n",
       "    <tr style=\"text-align: right;\">\n",
       "      <th></th>\n",
       "      <th>caseid</th>\n",
       "      <th>rscrinf</th>\n",
       "      <th>rdormres</th>\n",
       "      <th>rostscrn</th>\n",
       "      <th>rscreenhisp</th>\n",
       "      <th>rscreenrace</th>\n",
       "      <th>age_a</th>\n",
       "      <th>age_r</th>\n",
       "      <th>cmbirth</th>\n",
       "      <th>agescrn</th>\n",
       "      <th>...</th>\n",
       "      <th>pubassis_i</th>\n",
       "      <th>basewgt</th>\n",
       "      <th>adj_mod_basewgt</th>\n",
       "      <th>finalwgt</th>\n",
       "      <th>secu_r</th>\n",
       "      <th>sest</th>\n",
       "      <th>cmintvw</th>\n",
       "      <th>cmlstyr</th>\n",
       "      <th>screentime</th>\n",
       "      <th>intvlngth</th>\n",
       "    </tr>\n",
       "  </thead>\n",
       "  <tbody>\n",
       "    <tr>\n",
       "      <th>45</th>\n",
       "      <td>7081</td>\n",
       "      <td>5</td>\n",
       "      <td>5</td>\n",
       "      <td>3</td>\n",
       "      <td>1</td>\n",
       "      <td>5.0</td>\n",
       "      <td>35</td>\n",
       "      <td>35</td>\n",
       "      <td>805</td>\n",
       "      <td>35</td>\n",
       "      <td>...</td>\n",
       "      <td>0</td>\n",
       "      <td>5837.228186</td>\n",
       "      <td>6773.516282</td>\n",
       "      <td>7326.912562</td>\n",
       "      <td>2</td>\n",
       "      <td>83</td>\n",
       "      <td>1233</td>\n",
       "      <td>1221</td>\n",
       "      <td>11:40:08</td>\n",
       "      <td>103.980333</td>\n",
       "    </tr>\n",
       "    <tr>\n",
       "      <th>48</th>\n",
       "      <td>9242</td>\n",
       "      <td>5</td>\n",
       "      <td>5</td>\n",
       "      <td>2</td>\n",
       "      <td>1</td>\n",
       "      <td>5.0</td>\n",
       "      <td>29</td>\n",
       "      <td>29</td>\n",
       "      <td>888</td>\n",
       "      <td>29</td>\n",
       "      <td>...</td>\n",
       "      <td>0</td>\n",
       "      <td>3363.355288</td>\n",
       "      <td>5310.258519</td>\n",
       "      <td>5758.975364</td>\n",
       "      <td>2</td>\n",
       "      <td>83</td>\n",
       "      <td>1237</td>\n",
       "      <td>1225</td>\n",
       "      <td>12:02:18</td>\n",
       "      <td>69.112833</td>\n",
       "    </tr>\n",
       "    <tr>\n",
       "      <th>53</th>\n",
       "      <td>8785</td>\n",
       "      <td>5</td>\n",
       "      <td>5</td>\n",
       "      <td>3</td>\n",
       "      <td>1</td>\n",
       "      <td>5.0</td>\n",
       "      <td>37</td>\n",
       "      <td>37</td>\n",
       "      <td>793</td>\n",
       "      <td>37</td>\n",
       "      <td>...</td>\n",
       "      <td>0</td>\n",
       "      <td>5798.840668</td>\n",
       "      <td>6718.111775</td>\n",
       "      <td>7266.981507</td>\n",
       "      <td>2</td>\n",
       "      <td>83</td>\n",
       "      <td>1238</td>\n",
       "      <td>1226</td>\n",
       "      <td>18:20:56</td>\n",
       "      <td>68.210167</td>\n",
       "    </tr>\n",
       "    <tr>\n",
       "      <th>54</th>\n",
       "      <td>1511</td>\n",
       "      <td>1</td>\n",
       "      <td>5</td>\n",
       "      <td>5</td>\n",
       "      <td>5</td>\n",
       "      <td>5.0</td>\n",
       "      <td>42</td>\n",
       "      <td>42</td>\n",
       "      <td>731</td>\n",
       "      <td>42</td>\n",
       "      <td>...</td>\n",
       "      <td>0</td>\n",
       "      <td>5509.583267</td>\n",
       "      <td>6305.199061</td>\n",
       "      <td>10507.614236</td>\n",
       "      <td>2</td>\n",
       "      <td>83</td>\n",
       "      <td>1238</td>\n",
       "      <td>1226</td>\n",
       "      <td>16:35:27</td>\n",
       "      <td>66.828833</td>\n",
       "    </tr>\n",
       "    <tr>\n",
       "      <th>74</th>\n",
       "      <td>8269</td>\n",
       "      <td>1</td>\n",
       "      <td>5</td>\n",
       "      <td>3</td>\n",
       "      <td>5</td>\n",
       "      <td>5.0</td>\n",
       "      <td>24</td>\n",
       "      <td>24</td>\n",
       "      <td>939</td>\n",
       "      <td>24</td>\n",
       "      <td>...</td>\n",
       "      <td>0</td>\n",
       "      <td>2668.984249</td>\n",
       "      <td>3259.635980</td>\n",
       "      <td>4585.329933</td>\n",
       "      <td>1</td>\n",
       "      <td>55</td>\n",
       "      <td>1231</td>\n",
       "      <td>1219</td>\n",
       "      <td>15:07:17</td>\n",
       "      <td>87.511833</td>\n",
       "    </tr>\n",
       "  </tbody>\n",
       "</table>\n",
       "<p>5 rows × 3087 columns</p>\n",
       "</div>"
      ],
      "text/plain": [
       "    caseid  rscrinf  rdormres  rostscrn  rscreenhisp  rscreenrace  age_a  \\\n",
       "45    7081        5         5         3            1          5.0     35   \n",
       "48    9242        5         5         2            1          5.0     29   \n",
       "53    8785        5         5         3            1          5.0     37   \n",
       "54    1511        1         5         5            5          5.0     42   \n",
       "74    8269        1         5         3            5          5.0     24   \n",
       "\n",
       "    age_r  cmbirth  agescrn     ...      pubassis_i      basewgt  \\\n",
       "45     35      805       35     ...               0  5837.228186   \n",
       "48     29      888       29     ...               0  3363.355288   \n",
       "53     37      793       37     ...               0  5798.840668   \n",
       "54     42      731       42     ...               0  5509.583267   \n",
       "74     24      939       24     ...               0  2668.984249   \n",
       "\n",
       "    adj_mod_basewgt      finalwgt  secu_r  sest  cmintvw  cmlstyr  screentime  \\\n",
       "45      6773.516282   7326.912562       2    83     1233     1221    11:40:08   \n",
       "48      5310.258519   5758.975364       2    83     1237     1225    12:02:18   \n",
       "53      6718.111775   7266.981507       2    83     1238     1226    18:20:56   \n",
       "54      6305.199061  10507.614236       2    83     1238     1226    16:35:27   \n",
       "74      3259.635980   4585.329933       1    55     1231     1219    15:07:17   \n",
       "\n",
       "     intvlngth  \n",
       "45  103.980333  \n",
       "48   69.112833  \n",
       "53   68.210167  \n",
       "54   66.828833  \n",
       "74   87.511833  \n",
       "\n",
       "[5 rows x 3087 columns]"
      ]
     },
     "execution_count": 54,
     "metadata": {},
     "output_type": "execute_result"
    }
   ],
   "source": [
    "# Solution goes here\n",
    "high_earners = resp[resp.totincr == 14]\n",
    "high_earners.head()"
   ]
  },
  {
   "cell_type": "code",
   "execution_count": 55,
   "metadata": {
    "collapsed": false
   },
   "outputs": [
    {
     "data": {
      "image/png": "[encoded data removed]",
      "text/plain": [
       "<matplotlib.figure.Figure at 0x11cc0e400>"
      ]
     },
     "metadata": {},
     "output_type": "display_data"
    }
   ],
   "source": [
    "hist_high_income = thinkstats2.Hist(high_earners.parity, label= 'parity')\n",
    "thinkplot.Hist(hist_high_income)\n",
    "thinkplot.Config(xlabel='Children', ylabel='Count')"
   ]
  },
  {
   "cell_type": "markdown",
   "metadata": {},
   "source": [
    "Find the largest parities for high income respondents."
   ]
  },
  {
   "cell_type": "code",
   "execution_count": 56,
   "metadata": {
    "collapsed": false
   },
   "outputs": [
    {
     "data": {
      "text/plain": [
       "[(8, 1), (7, 1), (5, 5), (4, 19), (3, 123)]"
      ]
     },
     "execution_count": 56,
     "metadata": {},
     "output_type": "execute_result"
    }
   ],
   "source": [
    "# Solution goes here\n",
    "hist_high_income.Largest(5)"
   ]
  },
  {
   "cell_type": "code",
   "execution_count": 66,
   "metadata": {
    "collapsed": false
   },
   "outputs": [
    {
     "data": {
      "text/plain": [
       "thinkstats2.Hist"
      ]
     },
     "execution_count": 66,
     "metadata": {},
     "output_type": "execute_result"
    }
   ],
   "source": [
    "type(hist_high_income)"
   ]
  },
  {
   "cell_type": "markdown",
   "metadata": {},
   "source": [
    "Compare the mean <tt>parity</tt> for high income respondents and others."
   ]
  },
  {
   "cell_type": "code",
   "execution_count": 59,
   "metadata": {
    "collapsed": false
   },
   "outputs": [
    {
     "name": "stdout",
     "output_type": "stream",
     "text": [
      "1.2232107811068953 1.0758620689655172\n"
     ]
    }
   ],
   "source": [
    "# Solution goes here\n",
    "print(resp.parity.mean(), high_earners.parity.mean())"
   ]
  },
  {
   "cell_type": "markdown",
   "metadata": {},
   "source": [
    "Compute the Cohen effect size for this difference.  How does it compare with the difference in pregnancy length for first babies and others?"
   ]
  },
  {
   "cell_type": "code",
   "execution_count": 62,
   "metadata": {
    "collapsed": false
   },
   "outputs": [],
   "source": [
    "# Solution goes here\n",
    "import math\n",
    "def CohenEffectSize(group1, group2):\n",
    "    diff = group1.mean() - group2.mean()\n",
    "    var1 = group1.var()\n",
    "    var2 = group2.var()\n",
    "    n1, n2 = len(group1), len(group2)\n",
    "    pooled_var = (n1 * var1 + n2 * var2) / (n1 + n2)\n",
    "    d = diff / math.sqrt(pooled_var)\n",
    "    return d"
   ]
  },
  {
   "cell_type": "code",
   "execution_count": 65,
   "metadata": {
    "collapsed": false
   },
   "outputs": [
    {
     "data": {
      "text/plain": [
       "0.1251185531466061"
      ]
     },
     "execution_count": 65,
     "metadata": {},
     "output_type": "execute_result"
    }
   ],
   "source": [
    "CohenEffectSize(resp[resp.totincr < 14].parity, high_earners.parity)"
   ]
  },
  {
   "cell_type": "code",
   "execution_count": null,
   "metadata": {
    "collapsed": true
   },
   "outputs": [],
   "source": [
    "#Exercise 2.4 totalwgt_lb"
   ]
  },
  {
   "cell_type": "code",
   "execution_count": 69,
   "metadata": {
    "collapsed": true
   },
   "outputs": [],
   "source": [
    "live = preg[preg.outcome == 1]\n",
    "firsts = live[live.birthord == 1]\n",
    "others = live[live.birthord != 1]"
   ]
  },
  {
   "cell_type": "code",
   "execution_count": 75,
   "metadata": {
    "collapsed": false
   },
   "outputs": [
    {
     "data": {
      "text/html": [
       "<div>\n",
       "<style>\n",
       "    .dataframe thead tr:only-child th {\n",
       "        text-align: right;\n",
       "    }\n",
       "\n",
       "    .dataframe thead th {\n",
       "        text-align: left;\n",
       "    }\n",
       "\n",
       "    .dataframe tbody tr th {\n",
       "        vertical-align: top;\n",
       "    }\n",
       "</style>\n",
       "<table border=\"1\" class=\"dataframe\">\n",
       "  <thead>\n",
       "    <tr style=\"text-align: right;\">\n",
       "      <th></th>\n",
       "      <th>caseid</th>\n",
       "      <th>pregordr</th>\n",
       "      <th>howpreg_n</th>\n",
       "      <th>howpreg_p</th>\n",
       "      <th>moscurrp</th>\n",
       "      <th>nowprgdk</th>\n",
       "      <th>pregend1</th>\n",
       "      <th>pregend2</th>\n",
       "      <th>nbrnaliv</th>\n",
       "      <th>multbrth</th>\n",
       "      <th>...</th>\n",
       "      <th>laborfor_i</th>\n",
       "      <th>religion_i</th>\n",
       "      <th>metro_i</th>\n",
       "      <th>basewgt</th>\n",
       "      <th>adj_mod_basewgt</th>\n",
       "      <th>finalwgt</th>\n",
       "      <th>secu_p</th>\n",
       "      <th>sest</th>\n",
       "      <th>cmintvw</th>\n",
       "      <th>totalwgt_lb</th>\n",
       "    </tr>\n",
       "  </thead>\n",
       "  <tbody>\n",
       "    <tr>\n",
       "      <th>0</th>\n",
       "      <td>1</td>\n",
       "      <td>1</td>\n",
       "      <td>NaN</td>\n",
       "      <td>NaN</td>\n",
       "      <td>NaN</td>\n",
       "      <td>NaN</td>\n",
       "      <td>6.0</td>\n",
       "      <td>NaN</td>\n",
       "      <td>1.0</td>\n",
       "      <td>NaN</td>\n",
       "      <td>...</td>\n",
       "      <td>0</td>\n",
       "      <td>0</td>\n",
       "      <td>0</td>\n",
       "      <td>3410.389399</td>\n",
       "      <td>3869.349602</td>\n",
       "      <td>6448.271112</td>\n",
       "      <td>2</td>\n",
       "      <td>9</td>\n",
       "      <td>NaN</td>\n",
       "      <td>8.8125</td>\n",
       "    </tr>\n",
       "    <tr>\n",
       "      <th>2</th>\n",
       "      <td>2</td>\n",
       "      <td>1</td>\n",
       "      <td>NaN</td>\n",
       "      <td>NaN</td>\n",
       "      <td>NaN</td>\n",
       "      <td>NaN</td>\n",
       "      <td>5.0</td>\n",
       "      <td>NaN</td>\n",
       "      <td>3.0</td>\n",
       "      <td>5.0</td>\n",
       "      <td>...</td>\n",
       "      <td>0</td>\n",
       "      <td>0</td>\n",
       "      <td>0</td>\n",
       "      <td>7226.301740</td>\n",
       "      <td>8567.549110</td>\n",
       "      <td>12999.542264</td>\n",
       "      <td>2</td>\n",
       "      <td>12</td>\n",
       "      <td>NaN</td>\n",
       "      <td>9.1250</td>\n",
       "    </tr>\n",
       "    <tr>\n",
       "      <th>5</th>\n",
       "      <td>6</td>\n",
       "      <td>1</td>\n",
       "      <td>NaN</td>\n",
       "      <td>NaN</td>\n",
       "      <td>NaN</td>\n",
       "      <td>NaN</td>\n",
       "      <td>6.0</td>\n",
       "      <td>NaN</td>\n",
       "      <td>1.0</td>\n",
       "      <td>NaN</td>\n",
       "      <td>...</td>\n",
       "      <td>0</td>\n",
       "      <td>0</td>\n",
       "      <td>0</td>\n",
       "      <td>4870.926435</td>\n",
       "      <td>5325.196999</td>\n",
       "      <td>8874.440799</td>\n",
       "      <td>1</td>\n",
       "      <td>23</td>\n",
       "      <td>NaN</td>\n",
       "      <td>8.5625</td>\n",
       "    </tr>\n",
       "    <tr>\n",
       "      <th>8</th>\n",
       "      <td>7</td>\n",
       "      <td>1</td>\n",
       "      <td>NaN</td>\n",
       "      <td>NaN</td>\n",
       "      <td>NaN</td>\n",
       "      <td>NaN</td>\n",
       "      <td>5.0</td>\n",
       "      <td>NaN</td>\n",
       "      <td>1.0</td>\n",
       "      <td>NaN</td>\n",
       "      <td>...</td>\n",
       "      <td>0</td>\n",
       "      <td>0</td>\n",
       "      <td>0</td>\n",
       "      <td>3409.579565</td>\n",
       "      <td>3787.539000</td>\n",
       "      <td>6911.879921</td>\n",
       "      <td>2</td>\n",
       "      <td>14</td>\n",
       "      <td>NaN</td>\n",
       "      <td>7.5625</td>\n",
       "    </tr>\n",
       "    <tr>\n",
       "      <th>10</th>\n",
       "      <td>12</td>\n",
       "      <td>1</td>\n",
       "      <td>NaN</td>\n",
       "      <td>NaN</td>\n",
       "      <td>NaN</td>\n",
       "      <td>NaN</td>\n",
       "      <td>5.0</td>\n",
       "      <td>NaN</td>\n",
       "      <td>1.0</td>\n",
       "      <td>NaN</td>\n",
       "      <td>...</td>\n",
       "      <td>0</td>\n",
       "      <td>0</td>\n",
       "      <td>0</td>\n",
       "      <td>3612.781968</td>\n",
       "      <td>4146.013572</td>\n",
       "      <td>6909.331618</td>\n",
       "      <td>1</td>\n",
       "      <td>31</td>\n",
       "      <td>NaN</td>\n",
       "      <td>7.8125</td>\n",
       "    </tr>\n",
       "  </tbody>\n",
       "</table>\n",
       "<p>5 rows × 244 columns</p>\n",
       "</div>"
      ],
      "text/plain": [
       "    caseid  pregordr  howpreg_n  howpreg_p  moscurrp  nowprgdk  pregend1  \\\n",
       "0        1         1        NaN        NaN       NaN       NaN       6.0   \n",
       "2        2         1        NaN        NaN       NaN       NaN       5.0   \n",
       "5        6         1        NaN        NaN       NaN       NaN       6.0   \n",
       "8        7         1        NaN        NaN       NaN       NaN       5.0   \n",
       "10      12         1        NaN        NaN       NaN       NaN       5.0   \n",
       "\n",
       "    pregend2  nbrnaliv  multbrth     ...       laborfor_i  religion_i  \\\n",
       "0        NaN       1.0       NaN     ...                0           0   \n",
       "2        NaN       3.0       5.0     ...                0           0   \n",
       "5        NaN       1.0       NaN     ...                0           0   \n",
       "8        NaN       1.0       NaN     ...                0           0   \n",
       "10       NaN       1.0       NaN     ...                0           0   \n",
       "\n",
       "    metro_i      basewgt  adj_mod_basewgt      finalwgt  secu_p  sest  \\\n",
       "0         0  3410.389399      3869.349602   6448.271112       2     9   \n",
       "2         0  7226.301740      8567.549110  12999.542264       2    12   \n",
       "5         0  4870.926435      5325.196999   8874.440799       1    23   \n",
       "8         0  3409.579565      3787.539000   6911.879921       2    14   \n",
       "10        0  3612.781968      4146.013572   6909.331618       1    31   \n",
       "\n",
       "    cmintvw  totalwgt_lb  \n",
       "0       NaN       8.8125  \n",
       "2       NaN       9.1250  \n",
       "5       NaN       8.5625  \n",
       "8       NaN       7.5625  \n",
       "10      NaN       7.8125  \n",
       "\n",
       "[5 rows x 244 columns]"
      ]
     },
     "execution_count": 75,
     "metadata": {},
     "output_type": "execute_result"
    }
   ],
   "source": [
    "firsts.head()"
   ]
  },
  {
   "cell_type": "code",
   "execution_count": 79,
   "metadata": {
    "collapsed": false
   },
   "outputs": [
    {
     "data": {
      "image/png": "[encoded data removed]",
      "text/plain": [
       "<matplotlib.figure.Figure at 0x1234f6390>"
      ]
     },
     "metadata": {},
     "output_type": "display_data"
    }
   ],
   "source": [
    "first_hist = thinkstats2.Hist(np.floor(firsts.totalwgt_lb), label='first')\n",
    "other_hist = thinkstats2.Hist(np.floor(others.totalwgt_lb), label='other')\n",
    "width = 0.45\n",
    "thinkplot.PrePlot(2)\n",
    "thinkplot.Hist(first_hist, align='right', width=width)\n",
    "thinkplot.Hist(other_hist, align='left', width=width)\n",
    "thinkplot.Config(xlabel='weight', ylabel='Count')"
   ]
  },
  {
   "cell_type": "code",
   "execution_count": 68,
   "metadata": {
    "collapsed": false,
    "scrolled": true
   },
   "outputs": [
    {
     "data": {
      "text/plain": [
       "0        8.8125\n",
       "1        7.8750\n",
       "2        9.1250\n",
       "3        7.0000\n",
       "4        6.1875\n",
       "5        8.5625\n",
       "6        9.5625\n",
       "7        8.3750\n",
       "8        7.5625\n",
       "9        6.6250\n",
       "10       7.8125\n",
       "11       7.0000\n",
       "12       4.0000\n",
       "13          NaN\n",
       "14          NaN\n",
       "15       7.6875\n",
       "16       7.5000\n",
       "17       6.3125\n",
       "18          NaN\n",
       "19       8.7500\n",
       "20       8.1875\n",
       "21       5.5625\n",
       "22          NaN\n",
       "23       6.7500\n",
       "24       7.3750\n",
       "25       6.8125\n",
       "26       8.1250\n",
       "27       7.1250\n",
       "28       6.0625\n",
       "29       7.4375\n",
       "          ...  \n",
       "13563    7.6875\n",
       "13564    7.6250\n",
       "13565    8.1250\n",
       "13566    7.5000\n",
       "13567       NaN\n",
       "13568       NaN\n",
       "13569    5.8125\n",
       "13570    6.6875\n",
       "13571    6.0000\n",
       "13572    5.8125\n",
       "13573    6.5625\n",
       "13574    6.1250\n",
       "13575       NaN\n",
       "13576    6.4375\n",
       "13577       NaN\n",
       "13578    6.0000\n",
       "13579    7.0000\n",
       "13580       NaN\n",
       "13581    6.3750\n",
       "13582       NaN\n",
       "13583       NaN\n",
       "13584    6.3750\n",
       "13585       NaN\n",
       "13586       NaN\n",
       "13587       NaN\n",
       "13588    6.1875\n",
       "13589       NaN\n",
       "13590       NaN\n",
       "13591    7.5000\n",
       "13592    7.5000\n",
       "Name: totalwgt_lb, Length: 13593, dtype: float64"
      ]
     },
     "execution_count": 68,
     "metadata": {},
     "output_type": "execute_result"
    }
   ],
   "source": [
    "preg.totalwgt_lb"
   ]
  },
  {
   "cell_type": "code",
   "execution_count": null,
   "metadata": {
    "collapsed": true
   },
   "outputs": [],
   "source": []
  },
  {
   "cell_type": "code",
   "execution_count": null,
   "metadata": {
    "collapsed": true
   },
   "outputs": [],
   "source": []
  },
  {
   "cell_type": "code",
   "execution_count": null,
   "metadata": {
    "collapsed": true
   },
   "outputs": [],
   "source": []
  },
  {
   "cell_type": "code",
   "execution_count": null,
   "metadata": {
    "collapsed": true
   },
   "outputs": [],
   "source": []
  }
 ],
 "metadata": {
  "kernelspec": {
   "display_name": "Python 3",
   "language": "python",
   "name": "python3"
  },
  "language_info": {
   "codemirror_mode": {
    "name": "ipython",
    "version": 3
   },
   "file_extension": ".py",
   "mimetype": "text/x-python",
   "name": "python",
   "nbconvert_exporter": "python",
   "pygments_lexer": "ipython3",
   "version": "3.6.1"
  }
 },
 "nbformat": 4,
 "nbformat_minor": 0
}
