{
 "cells": [
  {
   "cell_type": "markdown",
   "metadata": {},
   "source": [
    "# Examples and Exercises from Think Stats, 2nd Edition\n",
    "\n",
    "http://thinkstats2.com\n",
    "\n",
    "Copyright 2016 Allen B. Downey\n",
    "\n",
    "MIT License: https://opensource.org/licenses/MIT\n"
   ]
  },
  {
   "cell_type": "code",
   "execution_count": 1,
   "metadata": {
    "collapsed": false
   },
   "outputs": [
    {
     "name": "stdout",
     "output_type": "stream",
     "text": [
      "       caseid  pregordr  howpreg_n  howpreg_p  moscurrp  nowprgdk  pregend1  \\\n",
      "0           1         1        NaN        NaN       NaN       NaN       6.0   \n",
      "1           1         2        NaN        NaN       NaN       NaN       6.0   \n",
      "2           2         1        NaN        NaN       NaN       NaN       5.0   \n",
      "3           2         2        NaN        NaN       NaN       NaN       6.0   \n",
      "4           2         3        NaN        NaN       NaN       NaN       6.0   \n",
      "5           6         1        NaN        NaN       NaN       NaN       6.0   \n",
      "6           6         2        NaN        NaN       NaN       NaN       6.0   \n",
      "7           6         3        NaN        NaN       NaN       NaN       6.0   \n",
      "8           7         1        NaN        NaN       NaN       NaN       5.0   \n",
      "9           7         2        NaN        NaN       NaN       NaN       5.0   \n",
      "10         12         1        NaN        NaN       NaN       NaN       5.0   \n",
      "11         14         1        NaN        NaN       NaN       NaN       6.0   \n",
      "12         14         2        NaN        NaN       NaN       NaN       6.0   \n",
      "13         14         3        NaN        NaN       NaN       NaN       3.0   \n",
      "14         15         1        NaN        NaN       NaN       NaN       1.0   \n",
      "15         15         2        NaN        NaN       NaN       NaN       6.0   \n",
      "16         15         3        NaN        NaN       NaN       NaN       6.0   \n",
      "17         18         1        NaN        NaN       NaN       NaN       5.0   \n",
      "18         18         2        NaN        NaN       NaN       NaN       1.0   \n",
      "19         21         1        NaN        NaN       NaN       NaN       6.0   \n",
      "20         21         2        NaN        NaN       NaN       NaN       6.0   \n",
      "21         23         1        NaN        NaN       NaN       NaN       6.0   \n",
      "22         23         2        NaN        NaN       NaN       NaN       1.0   \n",
      "23         24         1        NaN        NaN       NaN       NaN       6.0   \n",
      "24         24         2        NaN        NaN       NaN       NaN       6.0   \n",
      "25         24         3        NaN        NaN       NaN       NaN       6.0   \n",
      "26         28         1        NaN        NaN       NaN       NaN       6.0   \n",
      "27         31         1        NaN        NaN       NaN       NaN       6.0   \n",
      "28         31         2        NaN        NaN       NaN       NaN       6.0   \n",
      "29         31         3        NaN        NaN       NaN       NaN       6.0   \n",
      "...       ...       ...        ...        ...       ...       ...       ...   \n",
      "13563   12547         2        NaN        NaN       NaN       NaN       6.0   \n",
      "13564   12547         3        NaN        NaN       NaN       NaN       6.0   \n",
      "13565   12550         1        NaN        NaN       NaN       NaN       6.0   \n",
      "13566   12551         1        NaN        NaN       NaN       NaN       5.0   \n",
      "13567   12554         1        NaN        NaN       NaN       NaN       3.0   \n",
      "13568   12554         2        NaN        NaN       NaN       NaN       4.0   \n",
      "13569   12556         1        NaN        NaN       NaN       NaN       6.0   \n",
      "13570   12556         2        NaN        NaN       NaN       NaN       6.0   \n",
      "13571   12556         3        NaN        NaN       NaN       NaN       6.0   \n",
      "13572   12556         4        NaN        NaN       NaN       NaN       6.0   \n",
      "13573   12561         1        NaN        NaN       NaN       NaN       6.0   \n",
      "13574   12561         2        NaN        NaN       NaN       NaN       6.0   \n",
      "13575   12564         1        NaN        NaN       NaN       NaN       3.0   \n",
      "13576   12565         1        NaN        NaN       NaN       NaN       6.0   \n",
      "13577   12565         2       35.0        1.0       8.0       NaN       NaN   \n",
      "13578   12566         1        NaN        NaN       NaN       NaN       6.0   \n",
      "13579   12566         2        NaN        NaN       NaN       NaN       6.0   \n",
      "13580   12568         1        NaN        NaN       NaN       NaN       1.0   \n",
      "13581   12568         2        NaN        NaN       NaN       NaN       5.0   \n",
      "13582   12568         3        NaN        NaN       NaN       NaN       4.0   \n",
      "13583   12569         1        NaN        NaN       NaN       NaN       3.0   \n",
      "13584   12569         2        NaN        NaN       NaN       NaN       6.0   \n",
      "13585   12570         1        NaN        NaN       NaN       NaN       3.0   \n",
      "13586   12570         2        NaN        NaN       NaN       NaN       3.0   \n",
      "13587   12570         3        NaN        NaN       NaN       NaN       3.0   \n",
      "13588   12571         1        NaN        NaN       NaN       NaN       6.0   \n",
      "13589   12571         2        NaN        NaN       NaN       NaN       3.0   \n",
      "13590   12571         3        NaN        NaN       NaN       NaN       3.0   \n",
      "13591   12571         4        NaN        NaN       NaN       NaN       6.0   \n",
      "13592   12571         5        NaN        NaN       NaN       NaN       6.0   \n",
      "\n",
      "       pregend2  nbrnaliv  multbrth     ...       laborfor_i  religion_i  \\\n",
      "0           NaN       1.0       NaN     ...                0           0   \n",
      "1           NaN       1.0       NaN     ...                0           0   \n",
      "2           NaN       3.0       5.0     ...                0           0   \n",
      "3           NaN       1.0       NaN     ...                0           0   \n",
      "4           NaN       1.0       NaN     ...                0           0   \n",
      "5           NaN       1.0       NaN     ...                0           0   \n",
      "6           NaN       1.0       NaN     ...                0           0   \n",
      "7           NaN       1.0       NaN     ...                0           0   \n",
      "8           NaN       1.0       NaN     ...                0           0   \n",
      "9           NaN       1.0       NaN     ...                0           0   \n",
      "10          NaN       1.0       NaN     ...                0           0   \n",
      "11          NaN       1.0       NaN     ...                0           0   \n",
      "12          NaN       1.0       NaN     ...                0           0   \n",
      "13          NaN       NaN       NaN     ...                0           0   \n",
      "14          NaN       NaN       NaN     ...                0           0   \n",
      "15          NaN       1.0       NaN     ...                0           0   \n",
      "16          NaN       1.0       NaN     ...                0           0   \n",
      "17          NaN       1.0       NaN     ...                0           0   \n",
      "18          NaN       NaN       NaN     ...                0           0   \n",
      "19          NaN       1.0       NaN     ...                0           0   \n",
      "20          NaN       1.0       NaN     ...                0           0   \n",
      "21          NaN       1.0       NaN     ...                0           0   \n",
      "22          NaN       NaN       NaN     ...                0           0   \n",
      "23          NaN       1.0       NaN     ...                0           0   \n",
      "24          NaN       1.0       NaN     ...                0           0   \n",
      "25          NaN       1.0       NaN     ...                0           0   \n",
      "26          NaN       1.0       NaN     ...                0           0   \n",
      "27          NaN       1.0       NaN     ...                0           0   \n",
      "28          NaN       1.0       NaN     ...                0           0   \n",
      "29          NaN       1.0       NaN     ...                0           0   \n",
      "...         ...       ...       ...     ...              ...         ...   \n",
      "13563       NaN       1.0       NaN     ...                0           0   \n",
      "13564       NaN       1.0       NaN     ...                0           0   \n",
      "13565       NaN       1.0       NaN     ...                0           0   \n",
      "13566       NaN       1.0       NaN     ...                0           0   \n",
      "13567       NaN       NaN       NaN     ...                0           0   \n",
      "13568       NaN       NaN       NaN     ...                0           0   \n",
      "13569       NaN       1.0       NaN     ...                0           0   \n",
      "13570       NaN       1.0       NaN     ...                0           0   \n",
      "13571       NaN       1.0       NaN     ...                0           0   \n",
      "13572       NaN       1.0       NaN     ...                0           0   \n",
      "13573       NaN       1.0       NaN     ...                0           0   \n",
      "13574       NaN       1.0       NaN     ...                0           0   \n",
      "13575       NaN       NaN       NaN     ...                0           0   \n",
      "13576       NaN       1.0       NaN     ...                0           0   \n",
      "13577       NaN       NaN       NaN     ...                0           0   \n",
      "13578       NaN       1.0       NaN     ...                0           0   \n",
      "13579       NaN       1.0       NaN     ...                0           0   \n",
      "13580       NaN       NaN       NaN     ...                0           0   \n",
      "13581       NaN       1.0       NaN     ...                0           0   \n",
      "13582       NaN       NaN       NaN     ...                0           0   \n",
      "13583       NaN       NaN       NaN     ...                0           0   \n",
      "13584       NaN       1.0       NaN     ...                0           0   \n",
      "13585       NaN       NaN       NaN     ...                0           0   \n",
      "13586       NaN       NaN       NaN     ...                0           0   \n",
      "13587       NaN       NaN       NaN     ...                0           0   \n",
      "13588       NaN       1.0       NaN     ...                0           0   \n",
      "13589       NaN       NaN       NaN     ...                0           0   \n",
      "13590       NaN       NaN       NaN     ...                0           0   \n",
      "13591       NaN       1.0       NaN     ...                0           0   \n",
      "13592       NaN       1.0       NaN     ...                0           0   \n",
      "\n",
      "       metro_i      basewgt  adj_mod_basewgt      finalwgt  secu_p  sest  \\\n",
      "0            0  3410.389399      3869.349602   6448.271112       2     9   \n",
      "1            0  3410.389399      3869.349602   6448.271112       2     9   \n",
      "2            0  7226.301740      8567.549110  12999.542264       2    12   \n",
      "3            0  7226.301740      8567.549110  12999.542264       2    12   \n",
      "4            0  7226.301740      8567.549110  12999.542264       2    12   \n",
      "5            0  4870.926435      5325.196999   8874.440799       1    23   \n",
      "6            0  4870.926435      5325.196999   8874.440799       1    23   \n",
      "7            0  4870.926435      5325.196999   8874.440799       1    23   \n",
      "8            0  3409.579565      3787.539000   6911.879921       2    14   \n",
      "9            0  3409.579565      3787.539000   6911.879921       2    14   \n",
      "10           0  3612.781968      4146.013572   6909.331618       1    31   \n",
      "11           0  2418.069494      2810.302771   3039.904507       2    56   \n",
      "12           0  2418.069494      2810.302771   3039.904507       2    56   \n",
      "13           0  2418.069494      2810.302771   3039.904507       2    56   \n",
      "14           0  1667.816099      3200.862017   5553.495599       1    33   \n",
      "15           0  1667.816099      3200.862017   5553.495599       1    33   \n",
      "16           0  1667.816099      3200.862017   5553.495599       1    33   \n",
      "17           0  2957.257457      3404.403067   4153.371741       2    14   \n",
      "18           0  2957.257457      3404.403067   4153.371741       2    14   \n",
      "19           0  3408.342437      3965.763949   7237.122630       1    48   \n",
      "20           0  3408.342437      3965.763949   7237.122630       1    48   \n",
      "21           0  6210.373020      8120.841310  13533.382043       2    64   \n",
      "22           0  6210.373020      8120.841310  13533.382043       2    64   \n",
      "23           0  3409.573258      4068.628645   7424.840414       1    27   \n",
      "24           0  3409.573258      4068.628645   7424.840414       1    27   \n",
      "25           0  3409.573258      4068.628645   7424.840414       1    27   \n",
      "26           0  3407.794208      3808.343516   6949.846082       2    57   \n",
      "27           0  3405.679025      4272.084519   5211.943113       1     2   \n",
      "28           0  3405.679025      4272.084519   5211.943113       1     2   \n",
      "29           0  3405.679025      4272.084519   5211.943113       1     2   \n",
      "...        ...          ...              ...           ...     ...   ...   \n",
      "13563        0  3453.545517      6628.022524  11499.619080       1    52   \n",
      "13564        0  3453.545517      6628.022524  11499.619080       1    52   \n",
      "13565        0  3080.452699      3745.326058   5268.550165       1    79   \n",
      "13566        0  2418.538866      3653.453268   3951.940400       2    75   \n",
      "13567        0  1914.676604      2177.957240   2764.045534       2    75   \n",
      "13568        0  1914.676604      2177.957240   2764.045534       2    75   \n",
      "13569        0  2474.619764      3250.573384   3965.699528       1    44   \n",
      "13570        0  2474.619764      3250.573384   3965.699528       1    44   \n",
      "13571        0  2474.619764      3250.573384   3965.699528       1    44   \n",
      "13572        0  2474.619764      3250.573384   3965.699528       1    44   \n",
      "13573        0  2418.089703      2698.650781   4497.301527       1    10   \n",
      "13574        0  2418.089703      2698.650781   4497.301527       1    10   \n",
      "13575        0  1820.850938      2129.214067   2768.191208       2    44   \n",
      "13576        0  3195.641221      3834.241709   6652.409365       1    78   \n",
      "13577        0  3195.641221      3834.241709   6652.409365       1    78   \n",
      "13578        0  2080.317155      2422.820274   2627.548587       2     2   \n",
      "13579        0  2080.317155      2422.820274   2627.548587       2     2   \n",
      "13580        0  2734.687353      4258.980140   7772.212858       2    28   \n",
      "13581        0  2734.687353      4258.980140   7772.212858       2    28   \n",
      "13582        0  2734.687353      4258.980140   7772.212858       2    28   \n",
      "13583        0  2580.967613      2925.167116   5075.164946       2    61   \n",
      "13584        0  2580.967613      2925.167116   5075.164946       2    61   \n",
      "13585        0  5181.311509      6205.829154  11325.017623       2    40   \n",
      "13586        0  5181.311509      6205.829154  11325.017623       2    40   \n",
      "13587        0  5181.311509      6205.829154  11325.017623       2    40   \n",
      "13588        0  4670.540953      5795.692880   6269.200989       1    78   \n",
      "13589        0  4670.540953      5795.692880   6269.200989       1    78   \n",
      "13590        0  4670.540953      5795.692880   6269.200989       1    78   \n",
      "13591        0  4670.540953      5795.692880   6269.200989       1    78   \n",
      "13592        0  4670.540953      5795.692880   6269.200989       1    78   \n",
      "\n",
      "       cmintvw  totalwgt_lb  \n",
      "0          NaN       8.8125  \n",
      "1          NaN       7.8750  \n",
      "2          NaN       9.1250  \n",
      "3          NaN       7.0000  \n",
      "4          NaN       6.1875  \n",
      "5          NaN       8.5625  \n",
      "6          NaN       9.5625  \n",
      "7          NaN       8.3750  \n",
      "8          NaN       7.5625  \n",
      "9          NaN       6.6250  \n",
      "10         NaN       7.8125  \n",
      "11         NaN       7.0000  \n",
      "12         NaN       4.0000  \n",
      "13         NaN          NaN  \n",
      "14         NaN          NaN  \n",
      "15         NaN       7.6875  \n",
      "16         NaN       7.5000  \n",
      "17         NaN       6.3125  \n",
      "18         NaN          NaN  \n",
      "19         NaN       8.7500  \n",
      "20         NaN       8.1875  \n",
      "21         NaN       5.5625  \n",
      "22         NaN          NaN  \n",
      "23         NaN       6.7500  \n",
      "24         NaN       7.3750  \n",
      "25         NaN       6.8125  \n",
      "26         NaN       8.1250  \n",
      "27         NaN       7.1250  \n",
      "28         NaN       6.0625  \n",
      "29         NaN       7.4375  \n",
      "...        ...          ...  \n",
      "13563      NaN       7.6875  \n",
      "13564      NaN       7.6250  \n",
      "13565      NaN       8.1250  \n",
      "13566      NaN       7.5000  \n",
      "13567      NaN          NaN  \n",
      "13568      NaN          NaN  \n",
      "13569      NaN       5.8125  \n",
      "13570      NaN       6.6875  \n",
      "13571      NaN       6.0000  \n",
      "13572      NaN       5.8125  \n",
      "13573      NaN       6.5625  \n",
      "13574      NaN       6.1250  \n",
      "13575      NaN          NaN  \n",
      "13576      NaN       6.4375  \n",
      "13577      NaN          NaN  \n",
      "13578      NaN       6.0000  \n",
      "13579      NaN       7.0000  \n",
      "13580      NaN          NaN  \n",
      "13581      NaN       6.3750  \n",
      "13582      NaN          NaN  \n",
      "13583      NaN          NaN  \n",
      "13584      NaN       6.3750  \n",
      "13585      NaN          NaN  \n",
      "13586      NaN          NaN  \n",
      "13587      NaN          NaN  \n",
      "13588      NaN       6.1875  \n",
      "13589      NaN          NaN  \n",
      "13590      NaN          NaN  \n",
      "13591      NaN       7.5000  \n",
      "13592      NaN       7.5000  \n",
      "\n",
      "[13593 rows x 244 columns]\n"
     ]
    }
   ],
   "source": [
    "from __future__ import print_function, division\n",
    "\n",
    "%matplotlib inline\n",
    "\n",
    "import numpy as np\n",
    "\n",
    "import nsfg\n",
    "import first\n",
    "import thinkstats2\n",
    "import thinkplot"
   ]
  },
  {
   "cell_type": "markdown",
   "metadata": {},
   "source": [
    "## Examples\n",
    "\n",
    "One more time, I'll load the data from the NSFG."
   ]
  },
  {
   "cell_type": "code",
   "execution_count": 2,
   "metadata": {
    "collapsed": true
   },
   "outputs": [],
   "source": [
    "live, firsts, others = first.MakeFrames()"
   ]
  },
  {
   "cell_type": "markdown",
   "metadata": {},
   "source": [
    "And compute the distribution of birth weight for first babies and others."
   ]
  },
  {
   "cell_type": "code",
   "execution_count": 3,
   "metadata": {
    "collapsed": false
   },
   "outputs": [
    {
     "name": "stdout",
     "output_type": "stream",
     "text": [
      "Firsts 4413 4363\n",
      "Others 4735 4675\n"
     ]
    }
   ],
   "source": [
    "first_wgt = firsts.totalwgt_lb\n",
    "first_wgt_dropna = first_wgt.dropna()\n",
    "print('Firsts', len(first_wgt), len(first_wgt_dropna))\n",
    " \n",
    "other_wgt = others.totalwgt_lb\n",
    "other_wgt_dropna = other_wgt.dropna()\n",
    "print('Others', len(other_wgt), len(other_wgt_dropna))\n",
    "\n",
    "first_pmf = thinkstats2.Pmf(first_wgt_dropna, label='first')\n",
    "other_pmf = thinkstats2.Pmf(other_wgt_dropna, label='other')"
   ]
  },
  {
   "cell_type": "markdown",
   "metadata": {},
   "source": [
    "We can plot the PMFs on the same scale, but it is hard to see if there is a difference."
   ]
  },
  {
   "cell_type": "code",
   "execution_count": 4,
   "metadata": {
    "collapsed": false
   },
   "outputs": [
    {
     "data": {
      "image/png": "[encoded data removed]",
      "text/plain": [
       "<matplotlib.figure.Figure at 0x1142d6d90>"
      ]
     },
     "metadata": {},
     "output_type": "display_data"
    }
   ],
   "source": [
    "width = 0.4 / 16\n",
    "\n",
    "# plot PMFs of birth weights for first babies and others\n",
    "thinkplot.PrePlot(2)\n",
    "thinkplot.Hist(first_pmf, align='right', width=width)\n",
    "thinkplot.Hist(other_pmf, align='left', width=width)\n",
    "thinkplot.Config(xlabel='Weight (pounds)', ylabel='PMF')"
   ]
  },
  {
   "cell_type": "markdown",
   "metadata": {},
   "source": [
    "`PercentileRank` computes the fraction of `scores` less than or equal to `your_score`."
   ]
  },
  {
   "cell_type": "code",
   "execution_count": 5,
   "metadata": {
    "collapsed": true
   },
   "outputs": [],
   "source": [
    "def PercentileRank(scores, your_score):\n",
    "    count = 0\n",
    "    for score in scores:\n",
    "        if score <= your_score:\n",
    "            count += 1\n",
    "\n",
    "    percentile_rank = 100.0 * count / len(scores)\n",
    "    return percentile_rank"
   ]
  },
  {
   "cell_type": "markdown",
   "metadata": {},
   "source": [
    "If this is the list of scores."
   ]
  },
  {
   "cell_type": "code",
   "execution_count": 6,
   "metadata": {
    "collapsed": true
   },
   "outputs": [],
   "source": [
    "t = [55, 66, 77, 88, 99]"
   ]
  },
  {
   "cell_type": "markdown",
   "metadata": {},
   "source": [
    "And you got the 88, your percentile rank is 80."
   ]
  },
  {
   "cell_type": "code",
   "execution_count": 7,
   "metadata": {
    "collapsed": false
   },
   "outputs": [
    {
     "data": {
      "text/plain": [
       "80.0"
      ]
     },
     "execution_count": 7,
     "metadata": {},
     "output_type": "execute_result"
    }
   ],
   "source": [
    "PercentileRank(t, 88)"
   ]
  },
  {
   "cell_type": "markdown",
   "metadata": {},
   "source": [
    "`Percentile` takes a percentile rank and computes the corresponding percentile. "
   ]
  },
  {
   "cell_type": "code",
   "execution_count": 8,
   "metadata": {
    "collapsed": true
   },
   "outputs": [],
   "source": [
    "def Percentile(scores, percentile_rank):\n",
    "    scores.sort()\n",
    "    for score in scores:\n",
    "        if PercentileRank(scores, score) >= percentile_rank:\n",
    "            return score"
   ]
  },
  {
   "cell_type": "markdown",
   "metadata": {},
   "source": [
    "The median is the 50th percentile, which is 77."
   ]
  },
  {
   "cell_type": "code",
   "execution_count": 9,
   "metadata": {
    "collapsed": false
   },
   "outputs": [
    {
     "data": {
      "text/plain": [
       "77"
      ]
     },
     "execution_count": 9,
     "metadata": {},
     "output_type": "execute_result"
    }
   ],
   "source": [
    "Percentile(t, 50)"
   ]
  },
  {
   "cell_type": "markdown",
   "metadata": {},
   "source": [
    "Here's a more efficient way to compute percentiles."
   ]
  },
  {
   "cell_type": "code",
   "execution_count": 10,
   "metadata": {
    "collapsed": true
   },
   "outputs": [],
   "source": [
    "def Percentile2(scores, percentile_rank):\n",
    "    scores.sort()\n",
    "    index = percentile_rank * (len(scores)-1) // 100\n",
    "    return scores[index]"
   ]
  },
  {
   "cell_type": "markdown",
   "metadata": {},
   "source": [
    "Let's hope we get the same answer."
   ]
  },
  {
   "cell_type": "code",
   "execution_count": 11,
   "metadata": {
    "collapsed": false
   },
   "outputs": [
    {
     "data": {
      "text/plain": [
       "77"
      ]
     },
     "execution_count": 11,
     "metadata": {},
     "output_type": "execute_result"
    }
   ],
   "source": [
    "Percentile2(t, 50)"
   ]
  },
  {
   "cell_type": "markdown",
   "metadata": {},
   "source": [
    "The Cumulative Distribution Function (CDF) is almost the same as `PercentileRank`.  The only difference is that the result is 0-1 instead of 0-100."
   ]
  },
  {
   "cell_type": "code",
   "execution_count": 12,
   "metadata": {
    "collapsed": true
   },
   "outputs": [],
   "source": [
    "def EvalCdf(sample, x):\n",
    "    count = 0.0\n",
    "    for value in sample:\n",
    "        if value <= x:\n",
    "            count += 1\n",
    "\n",
    "    prob = count / len(sample)\n",
    "    return prob"
   ]
  },
  {
   "cell_type": "markdown",
   "metadata": {},
   "source": [
    "In this list"
   ]
  },
  {
   "cell_type": "code",
   "execution_count": 13,
   "metadata": {
    "collapsed": true
   },
   "outputs": [],
   "source": [
    "t = [1, 2, 2, 3, 5]"
   ]
  },
  {
   "cell_type": "markdown",
   "metadata": {},
   "source": [
    "We can evaluate the CDF for various values:"
   ]
  },
  {
   "cell_type": "code",
   "execution_count": 14,
   "metadata": {
    "collapsed": false
   },
   "outputs": [
    {
     "data": {
      "text/plain": [
       "(0.0, 0.2, 0.6, 0.8, 0.8, 1.0)"
      ]
     },
     "execution_count": 14,
     "metadata": {},
     "output_type": "execute_result"
    }
   ],
   "source": [
    "EvalCdf(t, 0), EvalCdf(t, 1), EvalCdf(t, 2), EvalCdf(t, 3), EvalCdf(t, 4), EvalCdf(t, 5)"
   ]
  },
  {
   "cell_type": "markdown",
   "metadata": {},
   "source": [
    "Here's an example using real data, the distribution of pregnancy length for live births."
   ]
  },
  {
   "cell_type": "code",
   "execution_count": 15,
   "metadata": {
    "collapsed": false
   },
   "outputs": [
    {
     "data": {
      "image/png": "[encoded data removed]",
      "text/plain": [
       "<matplotlib.figure.Figure at 0x1142d62d0>"
      ]
     },
     "metadata": {},
     "output_type": "display_data"
    }
   ],
   "source": [
    "cdf = thinkstats2.Cdf(live.prglngth, label='prglngth')\n",
    "thinkplot.Cdf(cdf)\n",
    "thinkplot.Config(xlabel='Pregnancy length (weeks)', ylabel='CDF', loc='upper left')"
   ]
  },
  {
   "cell_type": "markdown",
   "metadata": {},
   "source": [
    "`Cdf` provides `Prob`, which evaluates the CDF; that is, it computes the fraction of values less than or equal to the given value.  For example, 94% of pregnancy lengths are less than or equal to 41."
   ]
  },
  {
   "cell_type": "code",
   "execution_count": 16,
   "metadata": {
    "collapsed": false
   },
   "outputs": [
    {
     "data": {
      "text/plain": [
       "0.94064276344556186"
      ]
     },
     "execution_count": 16,
     "metadata": {},
     "output_type": "execute_result"
    }
   ],
   "source": [
    "cdf.Prob(41)"
   ]
  },
  {
   "cell_type": "markdown",
   "metadata": {
    "collapsed": true
   },
   "source": [
    "`Value` evaluates the inverse CDF; given a fraction, it computes the corresponding value.  For example, the median is the value that corresponds to 0.5."
   ]
  },
  {
   "cell_type": "code",
   "execution_count": 17,
   "metadata": {
    "collapsed": false
   },
   "outputs": [
    {
     "data": {
      "text/plain": [
       "39"
      ]
     },
     "execution_count": 17,
     "metadata": {},
     "output_type": "execute_result"
    }
   ],
   "source": [
    "cdf.Value(0.5)"
   ]
  },
  {
   "cell_type": "markdown",
   "metadata": {},
   "source": [
    "In general, CDFs are a good way to visualize distributions.  They are not as noisy as PMFs, and if you plot several CDFs on the same axes, any differences between them are apparent."
   ]
  },
  {
   "cell_type": "code",
   "execution_count": 18,
   "metadata": {
    "collapsed": false
   },
   "outputs": [
    {
     "data": {
      "image/png": "[encoded data removed]",
      "text/plain": [
       "<matplotlib.figure.Figure at 0x117691510>"
      ]
     },
     "metadata": {},
     "output_type": "display_data"
    }
   ],
   "source": [
    "first_cdf = thinkstats2.Cdf(firsts.totalwgt_lb, label='first')\n",
    "other_cdf = thinkstats2.Cdf(others.totalwgt_lb, label='other')\n",
    "\n",
    "thinkplot.PrePlot(2)\n",
    "thinkplot.Cdfs([first_cdf, other_cdf])\n",
    "thinkplot.Config(xlabel='Weight (pounds)', ylabel='CDF')"
   ]
  },
  {
   "cell_type": "markdown",
   "metadata": {},
   "source": [
    "In this example, we can see that first babies are slightly, but consistently, lighter than others.\n",
    "\n",
    "We can use the CDF of birth weight to compute percentile-based statistics."
   ]
  },
  {
   "cell_type": "code",
   "execution_count": 19,
   "metadata": {
    "collapsed": true
   },
   "outputs": [],
   "source": [
    "weights = live.totalwgt_lb\n",
    "live_cdf = thinkstats2.Cdf(weights, label='live')"
   ]
  },
  {
   "cell_type": "markdown",
   "metadata": {},
   "source": [
    "Again, the median is the 50th percentile."
   ]
  },
  {
   "cell_type": "code",
   "execution_count": 20,
   "metadata": {
    "collapsed": false
   },
   "outputs": [
    {
     "data": {
      "text/plain": [
       "7.375"
      ]
     },
     "execution_count": 20,
     "metadata": {},
     "output_type": "execute_result"
    }
   ],
   "source": [
    "median = live_cdf.Percentile(50)\n",
    "median"
   ]
  },
  {
   "cell_type": "markdown",
   "metadata": {},
   "source": [
    "The interquartile range is the interval from the 25th to 75th percentile."
   ]
  },
  {
   "cell_type": "code",
   "execution_count": 21,
   "metadata": {
    "collapsed": false
   },
   "outputs": [
    {
     "data": {
      "text/plain": [
       "(6.5, 8.125)"
      ]
     },
     "execution_count": 21,
     "metadata": {},
     "output_type": "execute_result"
    }
   ],
   "source": [
    "iqr = (live_cdf.Percentile(25), live_cdf.Percentile(75))\n",
    "iqr"
   ]
  },
  {
   "cell_type": "markdown",
   "metadata": {},
   "source": [
    "We can use the CDF to look up the percentile rank of a particular value.  For example, my second daughter was 10.2 pounds at birth, which is near the 99th percentile."
   ]
  },
  {
   "cell_type": "code",
   "execution_count": 22,
   "metadata": {
    "collapsed": false
   },
   "outputs": [
    {
     "data": {
      "text/plain": [
       "98.827174153573807"
      ]
     },
     "execution_count": 22,
     "metadata": {},
     "output_type": "execute_result"
    }
   ],
   "source": [
    "live_cdf.PercentileRank(10.2)"
   ]
  },
  {
   "cell_type": "markdown",
   "metadata": {},
   "source": [
    "If we draw a random sample from the observed weights and map each weigh to its percentile rank."
   ]
  },
  {
   "cell_type": "code",
   "execution_count": 23,
   "metadata": {
    "collapsed": true
   },
   "outputs": [],
   "source": [
    "sample = np.random.choice(weights, 100, replace=True)\n",
    "ranks = [live_cdf.PercentileRank(x) for x in sample]"
   ]
  },
  {
   "cell_type": "markdown",
   "metadata": {},
   "source": [
    "The resulting list of ranks should be approximately uniform from 0-1."
   ]
  },
  {
   "cell_type": "code",
   "execution_count": 24,
   "metadata": {
    "collapsed": false
   },
   "outputs": [
    {
     "data": {
      "image/png": "[encoded data removed]",
      "text/plain": [
       "<matplotlib.figure.Figure at 0x11f676810>"
      ]
     },
     "metadata": {},
     "output_type": "display_data"
    }
   ],
   "source": [
    "rank_cdf = thinkstats2.Cdf(ranks)\n",
    "thinkplot.Cdf(rank_cdf)\n",
    "thinkplot.Config(xlabel='Percentile rank', ylabel='CDF')"
   ]
  },
  {
   "cell_type": "markdown",
   "metadata": {},
   "source": [
    "That observation is the basis of `Cdf.Sample`, which generates a random sample from a Cdf.  Here's an example."
   ]
  },
  {
   "cell_type": "code",
   "execution_count": 25,
   "metadata": {
    "collapsed": false
   },
   "outputs": [
    {
     "data": {
      "image/png": "[encoded data removed]",
      "text/plain": [
       "<matplotlib.figure.Figure at 0x11f889c10>"
      ]
     },
     "metadata": {},
     "output_type": "display_data"
    }
   ],
   "source": [
    "resample = live_cdf.Sample(1000)\n",
    "thinkplot.Cdf(live_cdf)\n",
    "thinkplot.Cdf(thinkstats2.Cdf(resample, label='resample'))\n",
    "thinkplot.Config(xlabel='Birth weight (pounds)', ylabel='CDF')"
   ]
  },
  {
   "cell_type": "markdown",
   "metadata": {},
   "source": [
    "This confirms that the random sample has the same distribution as the original data."
   ]
  },
  {
   "cell_type": "markdown",
   "metadata": {
    "collapsed": true
   },
   "source": [
    "## Exercises"
   ]
  },
  {
   "cell_type": "markdown",
   "metadata": {
    "collapsed": true
   },
   "source": [
    "**Exercise:** How much did you weigh at birth? If you don’t know, call your mother or someone else who knows. Using the NSFG data (all live births), compute the distribution of birth weights and use it to find your percentile rank. If you were a first baby, find your percentile rank in the distribution for first babies. Otherwise use the distribution for others. If you are in the 90th percentile or higher, call your mother back and apologize."
   ]
  },
  {
   "cell_type": "code",
   "execution_count": 26,
   "metadata": {
    "collapsed": false
   },
   "outputs": [],
   "source": [
    "# Solution goes here\n",
    "my_birth_weight = 2.8*"
   ]
  },
  {
   "cell_type": "code",
   "execution_count": 27,
   "metadata": {
    "collapsed": false
   },
   "outputs": [],
   "source": [
    "# Solution goes here"
   ]
  },
  {
   "cell_type": "markdown",
   "metadata": {
    "collapsed": true
   },
   "source": [
    "**Exercise:** The numbers generated by `numpy.random.random` are supposed to be uniform between 0 and 1; that is, every value in the range should have the same probability.\n",
    "\n",
    "Generate 1000 numbers from `numpy.random.random` and plot their PMF.  What goes wrong?\n",
    "\n",
    "Now plot the CDF. Is the distribution uniform?"
   ]
  },
  {
   "cell_type": "code",
   "execution_count": 28,
   "metadata": {
    "collapsed": false
   },
   "outputs": [],
   "source": [
    "# Solution goes here"
   ]
  },
  {
   "cell_type": "code",
   "execution_count": 29,
   "metadata": {
    "collapsed": false
   },
   "outputs": [],
   "source": [
    "# Solution goes here"
   ]
  },
  {
   "cell_type": "code",
   "execution_count": 30,
   "metadata": {
    "collapsed": false
   },
   "outputs": [],
   "source": [
    "# Solution goes here"
   ]
  },
  {
   "cell_type": "code",
   "execution_count": null,
   "metadata": {
    "collapsed": false
   },
   "outputs": [],
   "source": []
  }
 ],
 "metadata": {
  "kernelspec": {
   "display_name": "Python 2",
   "language": "python",
   "name": "python2"
  },
  "language_info": {
   "codemirror_mode": {
    "name": "ipython",
    "version": 2
   },
   "file_extension": ".py",
   "mimetype": "text/x-python",
   "name": "python",
   "nbconvert_exporter": "python",
   "pygments_lexer": "ipython2",
   "version": "2.7.13"
  }
 },
 "nbformat": 4,
 "nbformat_minor": 0
}
